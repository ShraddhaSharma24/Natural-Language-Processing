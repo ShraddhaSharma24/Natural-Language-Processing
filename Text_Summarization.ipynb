{
  "metadata": {
    "kernelspec": {
      "language": "python",
      "display_name": "Python 3",
      "name": "python3"
    },
    "language_info": {
      "name": "python",
      "version": "3.10.12",
      "mimetype": "text/x-python",
      "codemirror_mode": {
        "name": "ipython",
        "version": 3
      },
      "pygments_lexer": "ipython3",
      "nbconvert_exporter": "python",
      "file_extension": ".py"
    },
    "kaggle": {
      "accelerator": "none",
      "dataSources": [],
      "dockerImageVersionId": 30822,
      "isInternetEnabled": false,
      "language": "python",
      "sourceType": "notebook",
      "isGpuEnabled": false
    },
    "colab": {
      "name": "Text Summarization",
      "provenance": [],
      "include_colab_link": true
    }
  },
  "nbformat_minor": 0,
  "nbformat": 4,
  "cells": [
    {
      "cell_type": "markdown",
      "metadata": {
        "id": "view-in-github",
        "colab_type": "text"
      },
      "source": [
        "<a href=\"https://colab.research.google.com/github/ShraddhaSharma24/Natural-Language-Processing/blob/main/Text_Summarization.ipynb\" target=\"_parent\"><img src=\"https://colab.research.google.com/assets/colab-badge.svg\" alt=\"Open In Colab\"/></a>"
      ]
    },
    {
      "cell_type": "code",
      "source": [
        "# This Python 3 environment comes with many helpful analytics libraries installed\n",
        "# It is defined by the kaggle/python Docker image: https://github.com/kaggle/docker-python\n",
        "# For example, here's several helpful packages to load\n",
        "\n",
        "import numpy as np # linear algebra\n",
        "import pandas as pd # data processing, CSV file I/O (e.g. pd.read_csv)\n",
        "\n",
        "# Input data files are available in the read-only \"../input/\" directory\n",
        "# For example, running this (by clicking run or pressing Shift+Enter) will list all files under the input directory\n",
        "\n",
        "import os\n",
        "for dirname, _, filenames in os.walk('/kaggle/input'):\n",
        "    for filename in filenames:\n",
        "        print(os.path.join(dirname, filename))\n",
        "\n",
        "# You can write up to 20GB to the current directory (/kaggle/working/) that gets preserved as output when you create a version using \"Save & Run All\"\n",
        "# You can also write temporary files to /kaggle/temp/, but they won't be saved outside of the current session"
      ],
      "metadata": {
        "_uuid": "8f2839f25d086af736a60e9eeb907d3b93b6e0e5",
        "_cell_guid": "b1076dfc-b9ad-4769-8c92-a6c4dae69d19",
        "trusted": true,
        "id": "0mvZr0EpjhKq"
      },
      "outputs": [],
      "execution_count": null
    },
    {
      "cell_type": "code",
      "source": [
        "text=\"India, officially the Republic of India (Hindi: Bhārat Gaṇarājya),[23] is a country in South Asia. It is the second-most populous country, the seventh-largest country by area, and the most populous democracy in the world. Bounded by the Indian Ocean on the south, the Arabian Sea on the southwest, and the Bay of Bengal on the southeast, it shares land borders with Pakistan to the west;[f] China, Nepal, and Bhutan to the north; and Bangladesh and Myanmar to the east. In the Indian Ocean, India is in the vicinity of Sri Lanka and the Maldives; its Andaman and Nicobar Islands share a maritime border with Thailand and Indonesia. Modern humans arrived on the Indian subcontinent from Africa no later than 55,000 years ago.[24] Their long occupation, initially in varying forms of isolation as hunter-gatherers, has made the region highly diverse, second only to Africa in human genetic diversity.[25] Settled life emerged on the subcontinent in the western margins of the Indus river basin 9,000 years ago, evolving gradually into the Indus Valley Civilisation of the third millennium BCE.[26] By 1200 BCE, an archaic form of Sanskrit, an Indo-European language, had diffused into India from the northwest, unfolding as the language of the Rigveda, and recording the dawning of Hinduism in India.[27] The Dravidian languages of India were supplanted in the northern regions.[28] By 400 BCE, stratification and exclusion by caste had emerged within Hinduism,[29] and Buddhism and Jainism had arisen, proclaiming social orders unlinked to heredity.[30] Early political consolidations gave rise to the loose-knit Maurya and Gupta Empires based in the Ganges Basin.[31] Their collective era was suffused with wide-ranging creativity,[32] but also marked by the declining status of women,[33] and the incorporation of untouchability into an organised system of belief.[g][34] In South India, the Middle kingdoms exported Dravidian-languages scripts and religious cultures to the kingdoms of Southeast Asia. In the early medieval era, Christianity, Islam, Judaism, and Zoroastrianism put down roots on India's southern and western coasts. Muslim armies from Central Asia intermittently overran India's northern plains,[37] eventually establishing the Delhi Sultanate, and drawing northern India into the cosmopolitan networks of medieval Islam.[38] In the 15th century, the Vijayanagara Empire created a long-lasting composite Hindu culture in south India.[39] In the Punjab, Sikhism emerged, rejecting institutionalised religion.[40] The Mughal Empire, in 1526, ushered in two centuries of relative peace,[41] leaving a legacy of luminous architecture.[h][42] Gradually expanding rule of the British East India Company followed, turning India into a colonial economy, but also consolidating its sovereignty.[43] British Crown rule began in 1858. The rights promised to Indians were granted slowly,[44] but technological changes were introduced, and ideas of education, modernity and the public life took root.[45] A pioneering and influential nationalist movement emerged,[46] which was noted for nonviolent resistance and led India to its independence in 1947.\""
      ],
      "metadata": {
        "trusted": true,
        "execution": {
          "iopub.status.busy": "2025-01-02T14:41:43.48668Z",
          "iopub.execute_input": "2025-01-02T14:41:43.487198Z",
          "iopub.status.idle": "2025-01-02T14:41:43.493502Z",
          "shell.execute_reply.started": "2025-01-02T14:41:43.487122Z",
          "shell.execute_reply": "2025-01-02T14:41:43.492414Z"
        },
        "id": "UOlUFQlYjhKy"
      },
      "outputs": [],
      "execution_count": null
    },
    {
      "cell_type": "code",
      "source": [
        "import spacy\n",
        "from spacy.lang.en.stop_words import STOP_WORDS\n",
        "from string import punctuation"
      ],
      "metadata": {
        "trusted": true,
        "execution": {
          "iopub.status.busy": "2025-01-02T14:43:10.303644Z",
          "iopub.execute_input": "2025-01-02T14:43:10.304185Z",
          "iopub.status.idle": "2025-01-02T14:43:17.425249Z",
          "shell.execute_reply.started": "2025-01-02T14:43:10.304142Z",
          "shell.execute_reply": "2025-01-02T14:43:17.424262Z"
        },
        "id": "Er4K0-wxjhK1"
      },
      "outputs": [],
      "execution_count": null
    },
    {
      "cell_type": "code",
      "source": [
        "stopwords=list(STOP_WORDS)"
      ],
      "metadata": {
        "trusted": true,
        "execution": {
          "iopub.status.busy": "2025-01-02T14:43:34.214441Z",
          "iopub.execute_input": "2025-01-02T14:43:34.215155Z",
          "iopub.status.idle": "2025-01-02T14:43:34.21994Z",
          "shell.execute_reply.started": "2025-01-02T14:43:34.215114Z",
          "shell.execute_reply": "2025-01-02T14:43:34.218734Z"
        },
        "id": "mV9_x0gMjhK2"
      },
      "outputs": [],
      "execution_count": null
    },
    {
      "cell_type": "code",
      "source": [
        "nlp = spacy.load('en_core_web_sm')"
      ],
      "metadata": {
        "trusted": true,
        "execution": {
          "iopub.status.busy": "2025-01-02T14:44:25.653432Z",
          "iopub.execute_input": "2025-01-02T14:44:25.654183Z",
          "iopub.status.idle": "2025-01-02T14:44:26.750318Z",
          "shell.execute_reply.started": "2025-01-02T14:44:25.654139Z",
          "shell.execute_reply": "2025-01-02T14:44:26.748419Z"
        },
        "id": "NNScD5M9jhK3"
      },
      "outputs": [],
      "execution_count": null
    },
    {
      "cell_type": "code",
      "source": [
        "doc=nlp(text)"
      ],
      "metadata": {
        "trusted": true,
        "execution": {
          "iopub.status.busy": "2025-01-02T14:44:46.77781Z",
          "iopub.execute_input": "2025-01-02T14:44:46.778203Z",
          "iopub.status.idle": "2025-01-02T14:44:46.92492Z",
          "shell.execute_reply.started": "2025-01-02T14:44:46.778169Z",
          "shell.execute_reply": "2025-01-02T14:44:46.923788Z"
        },
        "id": "6libQabvjhK3"
      },
      "outputs": [],
      "execution_count": null
    },
    {
      "cell_type": "code",
      "source": [
        "tokens=[token.text for token in doc]\n",
        "tokens"
      ],
      "metadata": {
        "trusted": true,
        "execution": {
          "iopub.status.busy": "2025-01-02T14:45:22.890434Z",
          "iopub.execute_input": "2025-01-02T14:45:22.890902Z",
          "iopub.status.idle": "2025-01-02T14:45:22.906227Z",
          "shell.execute_reply.started": "2025-01-02T14:45:22.890866Z",
          "shell.execute_reply": "2025-01-02T14:45:22.905175Z"
        },
        "id": "NGa3ss_PjhK4",
        "outputId": "81c4f95b-f6e0-4512-92eb-9d7dcb9f623c"
      },
      "outputs": [
        {
          "execution_count": 6,
          "output_type": "execute_result",
          "data": {
            "text/plain": "['India',\n ',',\n 'officially',\n 'the',\n 'Republic',\n 'of',\n 'India',\n '(',\n 'Hindi',\n ':',\n 'Bhārat',\n 'Gaṇarājya),[23',\n ']',\n 'is',\n 'a',\n 'country',\n 'in',\n 'South',\n 'Asia',\n '.',\n 'It',\n 'is',\n 'the',\n 'second',\n '-',\n 'most',\n 'populous',\n 'country',\n ',',\n 'the',\n 'seventh',\n '-',\n 'largest',\n 'country',\n 'by',\n 'area',\n ',',\n 'and',\n 'the',\n 'most',\n 'populous',\n 'democracy',\n 'in',\n 'the',\n 'world',\n '.',\n 'Bounded',\n 'by',\n 'the',\n 'Indian',\n 'Ocean',\n 'on',\n 'the',\n 'south',\n ',',\n 'the',\n 'Arabian',\n 'Sea',\n 'on',\n 'the',\n 'southwest',\n ',',\n 'and',\n 'the',\n 'Bay',\n 'of',\n 'Bengal',\n 'on',\n 'the',\n 'southeast',\n ',',\n 'it',\n 'shares',\n 'land',\n 'borders',\n 'with',\n 'Pakistan',\n 'to',\n 'the',\n 'west;[f',\n ']',\n 'China',\n ',',\n 'Nepal',\n ',',\n 'and',\n 'Bhutan',\n 'to',\n 'the',\n 'north',\n ';',\n 'and',\n 'Bangladesh',\n 'and',\n 'Myanmar',\n 'to',\n 'the',\n 'east',\n '.',\n 'In',\n 'the',\n 'Indian',\n 'Ocean',\n ',',\n 'India',\n 'is',\n 'in',\n 'the',\n 'vicinity',\n 'of',\n 'Sri',\n 'Lanka',\n 'and',\n 'the',\n 'Maldives',\n ';',\n 'its',\n 'Andaman',\n 'and',\n 'Nicobar',\n 'Islands',\n 'share',\n 'a',\n 'maritime',\n 'border',\n 'with',\n 'Thailand',\n 'and',\n 'Indonesia',\n '.',\n 'Modern',\n 'humans',\n 'arrived',\n 'on',\n 'the',\n 'Indian',\n 'subcontinent',\n 'from',\n 'Africa',\n 'no',\n 'later',\n 'than',\n '55,000',\n 'years',\n 'ago.[24',\n ']',\n 'Their',\n 'long',\n 'occupation',\n ',',\n 'initially',\n 'in',\n 'varying',\n 'forms',\n 'of',\n 'isolation',\n 'as',\n 'hunter',\n '-',\n 'gatherers',\n ',',\n 'has',\n 'made',\n 'the',\n 'region',\n 'highly',\n 'diverse',\n ',',\n 'second',\n 'only',\n 'to',\n 'Africa',\n 'in',\n 'human',\n 'genetic',\n 'diversity.[25',\n ']',\n 'Settled',\n 'life',\n 'emerged',\n 'on',\n 'the',\n 'subcontinent',\n 'in',\n 'the',\n 'western',\n 'margins',\n 'of',\n 'the',\n 'Indus',\n 'river',\n 'basin',\n '9,000',\n 'years',\n 'ago',\n ',',\n 'evolving',\n 'gradually',\n 'into',\n 'the',\n 'Indus',\n 'Valley',\n 'Civilisation',\n 'of',\n 'the',\n 'third',\n 'millennium',\n 'BCE.[26',\n ']',\n 'By',\n '1200',\n 'BCE',\n ',',\n 'an',\n 'archaic',\n 'form',\n 'of',\n 'Sanskrit',\n ',',\n 'an',\n 'Indo',\n '-',\n 'European',\n 'language',\n ',',\n 'had',\n 'diffused',\n 'into',\n 'India',\n 'from',\n 'the',\n 'northwest',\n ',',\n 'unfolding',\n 'as',\n 'the',\n 'language',\n 'of',\n 'the',\n 'Rigveda',\n ',',\n 'and',\n 'recording',\n 'the',\n 'dawning',\n 'of',\n 'Hinduism',\n 'in',\n 'India.[27',\n ']',\n 'The',\n 'Dravidian',\n 'languages',\n 'of',\n 'India',\n 'were',\n 'supplanted',\n 'in',\n 'the',\n 'northern',\n 'regions.[28',\n ']',\n 'By',\n '400',\n 'BCE',\n ',',\n 'stratification',\n 'and',\n 'exclusion',\n 'by',\n 'caste',\n 'had',\n 'emerged',\n 'within',\n 'Hinduism,[29',\n ']',\n 'and',\n 'Buddhism',\n 'and',\n 'Jainism',\n 'had',\n 'arisen',\n ',',\n 'proclaiming',\n 'social',\n 'orders',\n 'unlinked',\n 'to',\n 'heredity.[30',\n ']',\n 'Early',\n 'political',\n 'consolidations',\n 'gave',\n 'rise',\n 'to',\n 'the',\n 'loose',\n '-',\n 'knit',\n 'Maurya',\n 'and',\n 'Gupta',\n 'Empires',\n 'based',\n 'in',\n 'the',\n 'Ganges',\n 'Basin.[31',\n ']',\n 'Their',\n 'collective',\n 'era',\n 'was',\n 'suffused',\n 'with',\n 'wide',\n '-',\n 'ranging',\n 'creativity,[32',\n ']',\n 'but',\n 'also',\n 'marked',\n 'by',\n 'the',\n 'declining',\n 'status',\n 'of',\n 'women,[33',\n ']',\n 'and',\n 'the',\n 'incorporation',\n 'of',\n 'untouchability',\n 'into',\n 'an',\n 'organised',\n 'system',\n 'of',\n 'belief.[g][34',\n ']',\n 'In',\n 'South',\n 'India',\n ',',\n 'the',\n 'Middle',\n 'kingdoms',\n 'exported',\n 'Dravidian',\n '-',\n 'languages',\n 'scripts',\n 'and',\n 'religious',\n 'cultures',\n 'to',\n 'the',\n 'kingdoms',\n 'of',\n 'Southeast',\n 'Asia',\n '.',\n 'In',\n 'the',\n 'early',\n 'medieval',\n 'era',\n ',',\n 'Christianity',\n ',',\n 'Islam',\n ',',\n 'Judaism',\n ',',\n 'and',\n 'Zoroastrianism',\n 'put',\n 'down',\n 'roots',\n 'on',\n 'India',\n \"'s\",\n 'southern',\n 'and',\n 'western',\n 'coasts',\n '.',\n 'Muslim',\n 'armies',\n 'from',\n 'Central',\n 'Asia',\n 'intermittently',\n 'overran',\n 'India',\n \"'s\",\n 'northern',\n 'plains,[37',\n ']',\n 'eventually',\n 'establishing',\n 'the',\n 'Delhi',\n 'Sultanate',\n ',',\n 'and',\n 'drawing',\n 'northern',\n 'India',\n 'into',\n 'the',\n 'cosmopolitan',\n 'networks',\n 'of',\n 'medieval',\n 'Islam.[38',\n ']',\n 'In',\n 'the',\n '15th',\n 'century',\n ',',\n 'the',\n 'Vijayanagara',\n 'Empire',\n 'created',\n 'a',\n 'long',\n '-',\n 'lasting',\n 'composite',\n 'Hindu',\n 'culture',\n 'in',\n 'south',\n 'India.[39',\n ']',\n 'In',\n 'the',\n 'Punjab',\n ',',\n 'Sikhism',\n 'emerged',\n ',',\n 'rejecting',\n 'institutionalised',\n 'religion.[40',\n ']',\n 'The',\n 'Mughal',\n 'Empire',\n ',',\n 'in',\n '1526',\n ',',\n 'ushered',\n 'in',\n 'two',\n 'centuries',\n 'of',\n 'relative',\n 'peace,[41',\n ']',\n 'leaving',\n 'a',\n 'legacy',\n 'of',\n 'luminous',\n 'architecture.[h][42',\n ']',\n 'Gradually',\n 'expanding',\n 'rule',\n 'of',\n 'the',\n 'British',\n 'East',\n 'India',\n 'Company',\n 'followed',\n ',',\n 'turning',\n 'India',\n 'into',\n 'a',\n 'colonial',\n 'economy',\n ',',\n 'but',\n 'also',\n 'consolidating',\n 'its',\n 'sovereignty.[43',\n ']',\n 'British',\n 'Crown',\n 'rule',\n 'began',\n 'in',\n '1858',\n '.',\n 'The',\n 'rights',\n 'promised',\n 'to',\n 'Indians',\n 'were',\n 'granted',\n 'slowly,[44',\n ']',\n 'but',\n 'technological',\n 'changes',\n 'were',\n 'introduced',\n ',',\n 'and',\n 'ideas',\n 'of',\n 'education',\n ',',\n 'modernity',\n 'and',\n 'the',\n 'public',\n 'life',\n 'took',\n 'root.[45',\n ']',\n 'A',\n 'pioneering',\n 'and',\n 'influential',\n 'nationalist',\n 'movement',\n 'emerged,[46',\n ']',\n 'which',\n 'was',\n 'noted',\n 'for',\n 'nonviolent',\n 'resistance',\n 'and',\n 'led',\n 'India',\n 'to',\n 'its',\n 'independence',\n 'in',\n '1947',\n '.']"
          },
          "metadata": {}
        }
      ],
      "execution_count": null
    },
    {
      "cell_type": "code",
      "source": [
        "punctuation=punctuation+'\\n'\n",
        "punctuation"
      ],
      "metadata": {
        "trusted": true,
        "execution": {
          "iopub.status.busy": "2025-01-02T14:46:51.351196Z",
          "iopub.execute_input": "2025-01-02T14:46:51.351643Z",
          "iopub.status.idle": "2025-01-02T14:46:51.358191Z",
          "shell.execute_reply.started": "2025-01-02T14:46:51.351574Z",
          "shell.execute_reply": "2025-01-02T14:46:51.357204Z"
        },
        "id": "4780M14gjhK6",
        "outputId": "048bd340-3c6b-4d54-dc36-e0b1f8be8153"
      },
      "outputs": [
        {
          "execution_count": 8,
          "output_type": "execute_result",
          "data": {
            "text/plain": "'!\"#$%&\\'()*+,-./:;<=>?@[\\\\]^_`{|}~\\n'"
          },
          "metadata": {}
        }
      ],
      "execution_count": null
    },
    {
      "cell_type": "code",
      "source": [
        "word_frequencies={}\n",
        "for word in doc:\n",
        "    if word.text.lower() not in stopwords:\n",
        "        if word.text.lower() not in punctuation:\n",
        "            if word.text not in word_frequencies.keys():\n",
        "                word_frequencies[word.text]=1\n",
        "            else:\n",
        "                word_frequencies[word.text]+=1"
      ],
      "metadata": {
        "trusted": true,
        "execution": {
          "iopub.status.busy": "2025-01-02T14:50:25.195965Z",
          "iopub.execute_input": "2025-01-02T14:50:25.196373Z",
          "iopub.status.idle": "2025-01-02T14:50:25.205271Z",
          "shell.execute_reply.started": "2025-01-02T14:50:25.196343Z",
          "shell.execute_reply": "2025-01-02T14:50:25.204158Z"
        },
        "id": "9sK0ZsiFjhK8"
      },
      "outputs": [],
      "execution_count": null
    },
    {
      "cell_type": "code",
      "source": [
        "word_frequencies"
      ],
      "metadata": {
        "trusted": true,
        "execution": {
          "iopub.status.busy": "2025-01-02T14:50:33.139056Z",
          "iopub.execute_input": "2025-01-02T14:50:33.139391Z",
          "iopub.status.idle": "2025-01-02T14:50:33.151023Z",
          "shell.execute_reply.started": "2025-01-02T14:50:33.139366Z",
          "shell.execute_reply": "2025-01-02T14:50:33.149869Z"
        },
        "id": "vbLUgvBCjhK_",
        "outputId": "53162a59-504b-4a52-e97d-68bc61eef28c"
      },
      "outputs": [
        {
          "execution_count": 10,
          "output_type": "execute_result",
          "data": {
            "text/plain": "{'India': 12,\n 'officially': 1,\n 'Republic': 1,\n 'Hindi': 1,\n 'Bhārat': 1,\n 'Gaṇarājya),[23': 1,\n 'country': 3,\n 'South': 2,\n 'Asia': 3,\n 'second': 2,\n 'populous': 2,\n 'seventh': 1,\n 'largest': 1,\n 'area': 1,\n 'democracy': 1,\n 'world': 1,\n 'Bounded': 1,\n 'Indian': 3,\n 'Ocean': 2,\n 'south': 2,\n 'Arabian': 1,\n 'Sea': 1,\n 'southwest': 1,\n 'Bay': 1,\n 'Bengal': 1,\n 'southeast': 1,\n 'shares': 1,\n 'land': 1,\n 'borders': 1,\n 'Pakistan': 1,\n 'west;[f': 1,\n 'China': 1,\n 'Nepal': 1,\n 'Bhutan': 1,\n 'north': 1,\n 'Bangladesh': 1,\n 'Myanmar': 1,\n 'east': 1,\n 'vicinity': 1,\n 'Sri': 1,\n 'Lanka': 1,\n 'Maldives': 1,\n 'Andaman': 1,\n 'Nicobar': 1,\n 'Islands': 1,\n 'share': 1,\n 'maritime': 1,\n 'border': 1,\n 'Thailand': 1,\n 'Indonesia': 1,\n 'Modern': 1,\n 'humans': 1,\n 'arrived': 1,\n 'subcontinent': 2,\n 'Africa': 2,\n 'later': 1,\n '55,000': 1,\n 'years': 2,\n 'ago.[24': 1,\n 'long': 2,\n 'occupation': 1,\n 'initially': 1,\n 'varying': 1,\n 'forms': 1,\n 'isolation': 1,\n 'hunter': 1,\n 'gatherers': 1,\n 'region': 1,\n 'highly': 1,\n 'diverse': 1,\n 'human': 1,\n 'genetic': 1,\n 'diversity.[25': 1,\n 'Settled': 1,\n 'life': 2,\n 'emerged': 3,\n 'western': 2,\n 'margins': 1,\n 'Indus': 2,\n 'river': 1,\n 'basin': 1,\n '9,000': 1,\n 'ago': 1,\n 'evolving': 1,\n 'gradually': 1,\n 'Valley': 1,\n 'Civilisation': 1,\n 'millennium': 1,\n 'BCE.[26': 1,\n '1200': 1,\n 'BCE': 2,\n 'archaic': 1,\n 'form': 1,\n 'Sanskrit': 1,\n 'Indo': 1,\n 'European': 1,\n 'language': 2,\n 'diffused': 1,\n 'northwest': 1,\n 'unfolding': 1,\n 'Rigveda': 1,\n 'recording': 1,\n 'dawning': 1,\n 'Hinduism': 1,\n 'India.[27': 1,\n 'Dravidian': 2,\n 'languages': 2,\n 'supplanted': 1,\n 'northern': 3,\n 'regions.[28': 1,\n '400': 1,\n 'stratification': 1,\n 'exclusion': 1,\n 'caste': 1,\n 'Hinduism,[29': 1,\n 'Buddhism': 1,\n 'Jainism': 1,\n 'arisen': 1,\n 'proclaiming': 1,\n 'social': 1,\n 'orders': 1,\n 'unlinked': 1,\n 'heredity.[30': 1,\n 'Early': 1,\n 'political': 1,\n 'consolidations': 1,\n 'gave': 1,\n 'rise': 1,\n 'loose': 1,\n 'knit': 1,\n 'Maurya': 1,\n 'Gupta': 1,\n 'Empires': 1,\n 'based': 1,\n 'Ganges': 1,\n 'Basin.[31': 1,\n 'collective': 1,\n 'era': 2,\n 'suffused': 1,\n 'wide': 1,\n 'ranging': 1,\n 'creativity,[32': 1,\n 'marked': 1,\n 'declining': 1,\n 'status': 1,\n 'women,[33': 1,\n 'incorporation': 1,\n 'untouchability': 1,\n 'organised': 1,\n 'system': 1,\n 'belief.[g][34': 1,\n 'Middle': 1,\n 'kingdoms': 2,\n 'exported': 1,\n 'scripts': 1,\n 'religious': 1,\n 'cultures': 1,\n 'Southeast': 1,\n 'early': 1,\n 'medieval': 2,\n 'Christianity': 1,\n 'Islam': 1,\n 'Judaism': 1,\n 'Zoroastrianism': 1,\n 'roots': 1,\n 'southern': 1,\n 'coasts': 1,\n 'Muslim': 1,\n 'armies': 1,\n 'Central': 1,\n 'intermittently': 1,\n 'overran': 1,\n 'plains,[37': 1,\n 'eventually': 1,\n 'establishing': 1,\n 'Delhi': 1,\n 'Sultanate': 1,\n 'drawing': 1,\n 'cosmopolitan': 1,\n 'networks': 1,\n 'Islam.[38': 1,\n '15th': 1,\n 'century': 1,\n 'Vijayanagara': 1,\n 'Empire': 2,\n 'created': 1,\n 'lasting': 1,\n 'composite': 1,\n 'Hindu': 1,\n 'culture': 1,\n 'India.[39': 1,\n 'Punjab': 1,\n 'Sikhism': 1,\n 'rejecting': 1,\n 'institutionalised': 1,\n 'religion.[40': 1,\n 'Mughal': 1,\n '1526': 1,\n 'ushered': 1,\n 'centuries': 1,\n 'relative': 1,\n 'peace,[41': 1,\n 'leaving': 1,\n 'legacy': 1,\n 'luminous': 1,\n 'architecture.[h][42': 1,\n 'Gradually': 1,\n 'expanding': 1,\n 'rule': 2,\n 'British': 2,\n 'East': 1,\n 'Company': 1,\n 'followed': 1,\n 'turning': 1,\n 'colonial': 1,\n 'economy': 1,\n 'consolidating': 1,\n 'sovereignty.[43': 1,\n 'Crown': 1,\n 'began': 1,\n '1858': 1,\n 'rights': 1,\n 'promised': 1,\n 'Indians': 1,\n 'granted': 1,\n 'slowly,[44': 1,\n 'technological': 1,\n 'changes': 1,\n 'introduced': 1,\n 'ideas': 1,\n 'education': 1,\n 'modernity': 1,\n 'public': 1,\n 'took': 1,\n 'root.[45': 1,\n 'pioneering': 1,\n 'influential': 1,\n 'nationalist': 1,\n 'movement': 1,\n 'emerged,[46': 1,\n 'noted': 1,\n 'nonviolent': 1,\n 'resistance': 1,\n 'led': 1,\n 'independence': 1,\n '1947': 1}"
          },
          "metadata": {}
        }
      ],
      "execution_count": null
    },
    {
      "cell_type": "code",
      "source": [
        "max_frequency=max(word_frequencies.values())\n"
      ],
      "metadata": {
        "trusted": true,
        "execution": {
          "iopub.status.busy": "2025-01-02T14:51:23.712197Z",
          "iopub.execute_input": "2025-01-02T14:51:23.712544Z",
          "iopub.status.idle": "2025-01-02T14:51:23.717312Z",
          "shell.execute_reply.started": "2025-01-02T14:51:23.712502Z",
          "shell.execute_reply": "2025-01-02T14:51:23.71613Z"
        },
        "id": "Ttda7iGdjhLB"
      },
      "outputs": [],
      "execution_count": null
    },
    {
      "cell_type": "code",
      "source": [
        "max_frequency"
      ],
      "metadata": {
        "trusted": true,
        "execution": {
          "iopub.status.busy": "2025-01-02T14:51:35.609803Z",
          "iopub.execute_input": "2025-01-02T14:51:35.610215Z",
          "iopub.status.idle": "2025-01-02T14:51:35.616672Z",
          "shell.execute_reply.started": "2025-01-02T14:51:35.61018Z",
          "shell.execute_reply": "2025-01-02T14:51:35.615268Z"
        },
        "id": "MsFKldDFjhLC",
        "outputId": "b01b372f-a8f7-4125-f99b-945f71978b03"
      },
      "outputs": [
        {
          "execution_count": 12,
          "output_type": "execute_result",
          "data": {
            "text/plain": "12"
          },
          "metadata": {}
        }
      ],
      "execution_count": null
    },
    {
      "cell_type": "code",
      "source": [
        "for word in word_frequencies.keys():\n",
        "    word_frequencies[word]=word_frequencies[word]/max_frequency"
      ],
      "metadata": {
        "trusted": true,
        "execution": {
          "iopub.status.busy": "2025-01-02T14:52:57.769057Z",
          "iopub.execute_input": "2025-01-02T14:52:57.769457Z",
          "iopub.status.idle": "2025-01-02T14:52:57.774911Z",
          "shell.execute_reply.started": "2025-01-02T14:52:57.769426Z",
          "shell.execute_reply": "2025-01-02T14:52:57.773554Z"
        },
        "id": "1g8Go6YHjhLD"
      },
      "outputs": [],
      "execution_count": null
    },
    {
      "cell_type": "code",
      "source": [
        "print(word_frequencies)"
      ],
      "metadata": {
        "trusted": true,
        "execution": {
          "iopub.status.busy": "2025-01-02T14:53:22.459523Z",
          "iopub.execute_input": "2025-01-02T14:53:22.459947Z",
          "iopub.status.idle": "2025-01-02T14:53:22.466572Z",
          "shell.execute_reply.started": "2025-01-02T14:53:22.459907Z",
          "shell.execute_reply": "2025-01-02T14:53:22.46544Z"
        },
        "id": "-nxLkR1HjhLE",
        "outputId": "2a5cc99e-bec3-42ca-bfc1-077dbf6650d9"
      },
      "outputs": [
        {
          "name": "stdout",
          "text": "{'India': 1.0, 'officially': 0.08333333333333333, 'Republic': 0.08333333333333333, 'Hindi': 0.08333333333333333, 'Bhārat': 0.08333333333333333, 'Gaṇarājya),[23': 0.08333333333333333, 'country': 0.25, 'South': 0.16666666666666666, 'Asia': 0.25, 'second': 0.16666666666666666, 'populous': 0.16666666666666666, 'seventh': 0.08333333333333333, 'largest': 0.08333333333333333, 'area': 0.08333333333333333, 'democracy': 0.08333333333333333, 'world': 0.08333333333333333, 'Bounded': 0.08333333333333333, 'Indian': 0.25, 'Ocean': 0.16666666666666666, 'south': 0.16666666666666666, 'Arabian': 0.08333333333333333, 'Sea': 0.08333333333333333, 'southwest': 0.08333333333333333, 'Bay': 0.08333333333333333, 'Bengal': 0.08333333333333333, 'southeast': 0.08333333333333333, 'shares': 0.08333333333333333, 'land': 0.08333333333333333, 'borders': 0.08333333333333333, 'Pakistan': 0.08333333333333333, 'west;[f': 0.08333333333333333, 'China': 0.08333333333333333, 'Nepal': 0.08333333333333333, 'Bhutan': 0.08333333333333333, 'north': 0.08333333333333333, 'Bangladesh': 0.08333333333333333, 'Myanmar': 0.08333333333333333, 'east': 0.08333333333333333, 'vicinity': 0.08333333333333333, 'Sri': 0.08333333333333333, 'Lanka': 0.08333333333333333, 'Maldives': 0.08333333333333333, 'Andaman': 0.08333333333333333, 'Nicobar': 0.08333333333333333, 'Islands': 0.08333333333333333, 'share': 0.08333333333333333, 'maritime': 0.08333333333333333, 'border': 0.08333333333333333, 'Thailand': 0.08333333333333333, 'Indonesia': 0.08333333333333333, 'Modern': 0.08333333333333333, 'humans': 0.08333333333333333, 'arrived': 0.08333333333333333, 'subcontinent': 0.16666666666666666, 'Africa': 0.16666666666666666, 'later': 0.08333333333333333, '55,000': 0.08333333333333333, 'years': 0.16666666666666666, 'ago.[24': 0.08333333333333333, 'long': 0.16666666666666666, 'occupation': 0.08333333333333333, 'initially': 0.08333333333333333, 'varying': 0.08333333333333333, 'forms': 0.08333333333333333, 'isolation': 0.08333333333333333, 'hunter': 0.08333333333333333, 'gatherers': 0.08333333333333333, 'region': 0.08333333333333333, 'highly': 0.08333333333333333, 'diverse': 0.08333333333333333, 'human': 0.08333333333333333, 'genetic': 0.08333333333333333, 'diversity.[25': 0.08333333333333333, 'Settled': 0.08333333333333333, 'life': 0.16666666666666666, 'emerged': 0.25, 'western': 0.16666666666666666, 'margins': 0.08333333333333333, 'Indus': 0.16666666666666666, 'river': 0.08333333333333333, 'basin': 0.08333333333333333, '9,000': 0.08333333333333333, 'ago': 0.08333333333333333, 'evolving': 0.08333333333333333, 'gradually': 0.08333333333333333, 'Valley': 0.08333333333333333, 'Civilisation': 0.08333333333333333, 'millennium': 0.08333333333333333, 'BCE.[26': 0.08333333333333333, '1200': 0.08333333333333333, 'BCE': 0.16666666666666666, 'archaic': 0.08333333333333333, 'form': 0.08333333333333333, 'Sanskrit': 0.08333333333333333, 'Indo': 0.08333333333333333, 'European': 0.08333333333333333, 'language': 0.16666666666666666, 'diffused': 0.08333333333333333, 'northwest': 0.08333333333333333, 'unfolding': 0.08333333333333333, 'Rigveda': 0.08333333333333333, 'recording': 0.08333333333333333, 'dawning': 0.08333333333333333, 'Hinduism': 0.08333333333333333, 'India.[27': 0.08333333333333333, 'Dravidian': 0.16666666666666666, 'languages': 0.16666666666666666, 'supplanted': 0.08333333333333333, 'northern': 0.25, 'regions.[28': 0.08333333333333333, '400': 0.08333333333333333, 'stratification': 0.08333333333333333, 'exclusion': 0.08333333333333333, 'caste': 0.08333333333333333, 'Hinduism,[29': 0.08333333333333333, 'Buddhism': 0.08333333333333333, 'Jainism': 0.08333333333333333, 'arisen': 0.08333333333333333, 'proclaiming': 0.08333333333333333, 'social': 0.08333333333333333, 'orders': 0.08333333333333333, 'unlinked': 0.08333333333333333, 'heredity.[30': 0.08333333333333333, 'Early': 0.08333333333333333, 'political': 0.08333333333333333, 'consolidations': 0.08333333333333333, 'gave': 0.08333333333333333, 'rise': 0.08333333333333333, 'loose': 0.08333333333333333, 'knit': 0.08333333333333333, 'Maurya': 0.08333333333333333, 'Gupta': 0.08333333333333333, 'Empires': 0.08333333333333333, 'based': 0.08333333333333333, 'Ganges': 0.08333333333333333, 'Basin.[31': 0.08333333333333333, 'collective': 0.08333333333333333, 'era': 0.16666666666666666, 'suffused': 0.08333333333333333, 'wide': 0.08333333333333333, 'ranging': 0.08333333333333333, 'creativity,[32': 0.08333333333333333, 'marked': 0.08333333333333333, 'declining': 0.08333333333333333, 'status': 0.08333333333333333, 'women,[33': 0.08333333333333333, 'incorporation': 0.08333333333333333, 'untouchability': 0.08333333333333333, 'organised': 0.08333333333333333, 'system': 0.08333333333333333, 'belief.[g][34': 0.08333333333333333, 'Middle': 0.08333333333333333, 'kingdoms': 0.16666666666666666, 'exported': 0.08333333333333333, 'scripts': 0.08333333333333333, 'religious': 0.08333333333333333, 'cultures': 0.08333333333333333, 'Southeast': 0.08333333333333333, 'early': 0.08333333333333333, 'medieval': 0.16666666666666666, 'Christianity': 0.08333333333333333, 'Islam': 0.08333333333333333, 'Judaism': 0.08333333333333333, 'Zoroastrianism': 0.08333333333333333, 'roots': 0.08333333333333333, 'southern': 0.08333333333333333, 'coasts': 0.08333333333333333, 'Muslim': 0.08333333333333333, 'armies': 0.08333333333333333, 'Central': 0.08333333333333333, 'intermittently': 0.08333333333333333, 'overran': 0.08333333333333333, 'plains,[37': 0.08333333333333333, 'eventually': 0.08333333333333333, 'establishing': 0.08333333333333333, 'Delhi': 0.08333333333333333, 'Sultanate': 0.08333333333333333, 'drawing': 0.08333333333333333, 'cosmopolitan': 0.08333333333333333, 'networks': 0.08333333333333333, 'Islam.[38': 0.08333333333333333, '15th': 0.08333333333333333, 'century': 0.08333333333333333, 'Vijayanagara': 0.08333333333333333, 'Empire': 0.16666666666666666, 'created': 0.08333333333333333, 'lasting': 0.08333333333333333, 'composite': 0.08333333333333333, 'Hindu': 0.08333333333333333, 'culture': 0.08333333333333333, 'India.[39': 0.08333333333333333, 'Punjab': 0.08333333333333333, 'Sikhism': 0.08333333333333333, 'rejecting': 0.08333333333333333, 'institutionalised': 0.08333333333333333, 'religion.[40': 0.08333333333333333, 'Mughal': 0.08333333333333333, '1526': 0.08333333333333333, 'ushered': 0.08333333333333333, 'centuries': 0.08333333333333333, 'relative': 0.08333333333333333, 'peace,[41': 0.08333333333333333, 'leaving': 0.08333333333333333, 'legacy': 0.08333333333333333, 'luminous': 0.08333333333333333, 'architecture.[h][42': 0.08333333333333333, 'Gradually': 0.08333333333333333, 'expanding': 0.08333333333333333, 'rule': 0.16666666666666666, 'British': 0.16666666666666666, 'East': 0.08333333333333333, 'Company': 0.08333333333333333, 'followed': 0.08333333333333333, 'turning': 0.08333333333333333, 'colonial': 0.08333333333333333, 'economy': 0.08333333333333333, 'consolidating': 0.08333333333333333, 'sovereignty.[43': 0.08333333333333333, 'Crown': 0.08333333333333333, 'began': 0.08333333333333333, '1858': 0.08333333333333333, 'rights': 0.08333333333333333, 'promised': 0.08333333333333333, 'Indians': 0.08333333333333333, 'granted': 0.08333333333333333, 'slowly,[44': 0.08333333333333333, 'technological': 0.08333333333333333, 'changes': 0.08333333333333333, 'introduced': 0.08333333333333333, 'ideas': 0.08333333333333333, 'education': 0.08333333333333333, 'modernity': 0.08333333333333333, 'public': 0.08333333333333333, 'took': 0.08333333333333333, 'root.[45': 0.08333333333333333, 'pioneering': 0.08333333333333333, 'influential': 0.08333333333333333, 'nationalist': 0.08333333333333333, 'movement': 0.08333333333333333, 'emerged,[46': 0.08333333333333333, 'noted': 0.08333333333333333, 'nonviolent': 0.08333333333333333, 'resistance': 0.08333333333333333, 'led': 0.08333333333333333, 'independence': 0.08333333333333333, '1947': 0.08333333333333333}\n",
          "output_type": "stream"
        }
      ],
      "execution_count": null
    },
    {
      "cell_type": "code",
      "source": [
        "sentence_tokens=[sent for sent in doc.sents]\n",
        "print(sentence_tokens)"
      ],
      "metadata": {
        "trusted": true,
        "execution": {
          "iopub.status.busy": "2025-01-02T14:54:17.018544Z",
          "iopub.execute_input": "2025-01-02T14:54:17.019039Z",
          "iopub.status.idle": "2025-01-02T14:54:17.025771Z",
          "shell.execute_reply.started": "2025-01-02T14:54:17.018997Z",
          "shell.execute_reply": "2025-01-02T14:54:17.024295Z"
        },
        "id": "ZDGyo2ZljhLF",
        "outputId": "6e2693f3-49c1-4ebf-a161-7b4e1a4bebe1"
      },
      "outputs": [
        {
          "name": "stdout",
          "text": "[India, officially the Republic of India (Hindi: Bhārat Gaṇarājya),[23] is a country in South Asia., It is the second-most populous country, the seventh-largest country by area, and the most populous democracy in the world., Bounded by the Indian Ocean on the south, the Arabian Sea on the southwest, and the Bay of Bengal on the southeast, it shares land borders with Pakistan to the west;[f] China, Nepal, and Bhutan to the north; and Bangladesh and Myanmar to the east., In the Indian Ocean, India is in the vicinity of Sri Lanka and the Maldives; its Andaman and Nicobar Islands share a maritime border with Thailand and Indonesia., Modern humans arrived on the Indian subcontinent from Africa no later than 55,000 years ago.[24], Their long occupation, initially in varying forms of isolation as hunter-gatherers, has made the region highly diverse, second only to Africa in human genetic diversity.[25] Settled life emerged on the subcontinent in the western margins of the Indus river basin 9,000 years ago, evolving gradually into the Indus Valley Civilisation of the third millennium BCE.[26] By 1200 BCE, an archaic form of Sanskrit, an Indo-European language, had diffused into India from the northwest, unfolding as the language of the Rigveda, and recording the dawning of Hinduism in India.[27], The Dravidian languages of India were supplanted in the northern regions.[28], By 400 BCE, stratification and exclusion by caste had emerged within Hinduism,[29] and Buddhism and Jainism had arisen, proclaiming social orders unlinked to heredity.[30] Early political consolidations gave rise to the loose-knit Maurya and Gupta Empires based in the Ganges Basin.[31], Their collective era was suffused with wide-ranging creativity,[32] but also marked by the declining status of women,[33] and the incorporation of untouchability into an organised system of belief.[g][34], In South India, the Middle kingdoms exported Dravidian-languages scripts and religious cultures to the kingdoms of Southeast Asia., In the early medieval era, Christianity, Islam, Judaism, and Zoroastrianism put down roots on India's southern and western coasts., Muslim armies from Central Asia intermittently overran India's northern plains,[37] eventually establishing the Delhi Sultanate, and drawing northern India into the cosmopolitan networks of medieval Islam.[38], In the 15th century, the Vijayanagara Empire created a long-lasting composite Hindu culture in south India.[39], In the Punjab, Sikhism emerged, rejecting institutionalised religion.[40] The Mughal Empire, in 1526, ushered in two centuries of relative peace,[41] leaving a legacy of luminous architecture.[h][42], Gradually expanding rule of the British East India Company followed, turning India into a colonial economy, but also consolidating its sovereignty.[43] British Crown rule began in 1858., The rights promised to Indians were granted slowly,[44] but technological changes were introduced, and ideas of education, modernity and the public life took root.[45], A pioneering and influential nationalist movement emerged,[46] which was noted for nonviolent resistance and led India to its independence in 1947.]\n",
          "output_type": "stream"
        }
      ],
      "execution_count": null
    },
    {
      "cell_type": "code",
      "source": [
        "sentence_scores={}\n",
        "for sent in sentence_tokens:\n",
        "    for word in sent:\n",
        "        if word.text.lower() in word_frequencies.keys():\n",
        "            if sent not in sentence_scores.keys():\n",
        "                sentence_scores[sent]=word_frequencies[word.text.lower()]\n",
        "            else:\n",
        "                sentence_scores[sent]+=word_frequencies[word.text.lower()]"
      ],
      "metadata": {
        "trusted": true,
        "execution": {
          "iopub.status.busy": "2025-01-02T14:58:15.534361Z",
          "iopub.execute_input": "2025-01-02T14:58:15.53482Z",
          "iopub.status.idle": "2025-01-02T14:58:15.542087Z",
          "shell.execute_reply.started": "2025-01-02T14:58:15.534786Z",
          "shell.execute_reply": "2025-01-02T14:58:15.54064Z"
        },
        "id": "tzWwzbGhjhLG"
      },
      "outputs": [],
      "execution_count": null
    },
    {
      "cell_type": "code",
      "source": [
        "sentence_scores"
      ],
      "metadata": {
        "trusted": true,
        "execution": {
          "iopub.status.busy": "2025-01-02T14:58:29.253946Z",
          "iopub.execute_input": "2025-01-02T14:58:29.254355Z",
          "iopub.status.idle": "2025-01-02T14:58:29.263418Z",
          "shell.execute_reply.started": "2025-01-02T14:58:29.254318Z",
          "shell.execute_reply": "2025-01-02T14:58:29.262129Z"
        },
        "id": "sHXiursvjhLG",
        "outputId": "ba50b529-4557-446d-9a48-00f79dd1fae2"
      },
      "outputs": [
        {
          "execution_count": 19,
          "output_type": "execute_result",
          "data": {
            "text/plain": "{India, officially the Republic of India (Hindi: Bhārat Gaṇarājya),[23] is a country in South Asia.: 0.5,\n It is the second-most populous country, the seventh-largest country by area, and the most populous democracy in the world.: 1.4166666666666665,\n Bounded by the Indian Ocean on the south, the Arabian Sea on the southwest, and the Bay of Bengal on the southeast, it shares land borders with Pakistan to the west;[f] China, Nepal, and Bhutan to the north; and Bangladesh and Myanmar to the east.: 0.8333333333333334,\n In the Indian Ocean, India is in the vicinity of Sri Lanka and the Maldives; its Andaman and Nicobar Islands share a maritime border with Thailand and Indonesia.: 0.3333333333333333,\n Modern humans arrived on the Indian subcontinent from Africa no later than 55,000 years ago.[24]: 0.75,\n Their long occupation, initially in varying forms of isolation as hunter-gatherers, has made the region highly diverse, second only to Africa in human genetic diversity.[25] Settled life emerged on the subcontinent in the western margins of the Indus river basin 9,000 years ago, evolving gradually into the Indus Valley Civilisation of the third millennium BCE.[26] By 1200 BCE, an archaic form of Sanskrit, an Indo-European language, had diffused into India from the northwest, unfolding as the language of the Rigveda, and recording the dawning of Hinduism in India.[27]: 4.000000000000002,\n The Dravidian languages of India were supplanted in the northern regions.[28]: 0.5833333333333334,\n By 400 BCE, stratification and exclusion by caste had emerged within Hinduism,[29] and Buddhism and Jainism had arisen, proclaiming social orders unlinked to heredity.[30] Early political consolidations gave rise to the loose-knit Maurya and Gupta Empires based in the Ganges Basin.[31]: 1.7499999999999993,\n Their collective era was suffused with wide-ranging creativity,[32] but also marked by the declining status of women,[33] and the incorporation of untouchability into an organised system of belief.[g][34]: 1.333333333333333,\n In South India, the Middle kingdoms exported Dravidian-languages scripts and religious cultures to the kingdoms of Southeast Asia.: 1.0833333333333333,\n In the early medieval era, Christianity, Islam, Judaism, and Zoroastrianism put down roots on India's southern and western coasts.: 0.8333333333333333,\n Muslim armies from Central Asia intermittently overran India's northern plains,[37] eventually establishing the Delhi Sultanate, and drawing northern India into the cosmopolitan networks of medieval Islam.[38]: 1.4166666666666667,\n In the 15th century, the Vijayanagara Empire created a long-lasting composite Hindu culture in south India.[39]: 0.8333333333333333,\n In the Punjab, Sikhism emerged, rejecting institutionalised religion.[40] The Mughal Empire, in 1526, ushered in two centuries of relative peace,[41] leaving a legacy of luminous architecture.[h][42]: 1.2499999999999998,\n Gradually expanding rule of the British East India Company followed, turning India into a colonial economy, but also consolidating its sovereignty.[43] British Crown rule began in 1858.: 1.25,\n The rights promised to Indians were granted slowly,[44] but technological changes were introduced, and ideas of education, modernity and the public life took root.[45]: 1.25,\n A pioneering and influential nationalist movement emerged,[46] which was noted for nonviolent resistance and led India to its independence in 1947.: 0.9166666666666667}"
          },
          "metadata": {}
        }
      ],
      "execution_count": null
    },
    {
      "cell_type": "code",
      "source": [
        "from heapq import nlargest"
      ],
      "metadata": {
        "trusted": true,
        "execution": {
          "iopub.status.busy": "2025-01-02T14:59:01.79417Z",
          "iopub.execute_input": "2025-01-02T14:59:01.794513Z",
          "iopub.status.idle": "2025-01-02T14:59:01.800417Z",
          "shell.execute_reply.started": "2025-01-02T14:59:01.794488Z",
          "shell.execute_reply": "2025-01-02T14:59:01.79872Z"
        },
        "id": "z1Id-ukWjhLH"
      },
      "outputs": [],
      "execution_count": null
    },
    {
      "cell_type": "code",
      "source": [
        "select_length=int(len(sentence_tokens)*0.3)\n",
        "select_length"
      ],
      "metadata": {
        "trusted": true,
        "execution": {
          "iopub.status.busy": "2025-01-02T15:00:28.043302Z",
          "iopub.execute_input": "2025-01-02T15:00:28.04367Z",
          "iopub.status.idle": "2025-01-02T15:00:28.049951Z",
          "shell.execute_reply.started": "2025-01-02T15:00:28.043641Z",
          "shell.execute_reply": "2025-01-02T15:00:28.04874Z"
        },
        "id": "zDmMweYVjhLI",
        "outputId": "2ddc339e-1d25-4e39-d2d3-efa2c746ad64"
      },
      "outputs": [
        {
          "execution_count": 23,
          "output_type": "execute_result",
          "data": {
            "text/plain": "5"
          },
          "metadata": {}
        }
      ],
      "execution_count": null
    },
    {
      "cell_type": "code",
      "source": [
        "summary=nlargest(select_length, sentence_scores, key=sentence_scores.get)"
      ],
      "metadata": {
        "trusted": true,
        "execution": {
          "iopub.status.busy": "2025-01-02T15:02:01.968652Z",
          "iopub.execute_input": "2025-01-02T15:02:01.969065Z",
          "iopub.status.idle": "2025-01-02T15:02:01.976409Z",
          "shell.execute_reply.started": "2025-01-02T15:02:01.969034Z",
          "shell.execute_reply": "2025-01-02T15:02:01.97469Z"
        },
        "id": "DtNv35I0jhLI"
      },
      "outputs": [],
      "execution_count": null
    },
    {
      "cell_type": "code",
      "source": [
        "summary"
      ],
      "metadata": {
        "trusted": true,
        "execution": {
          "iopub.status.busy": "2025-01-02T15:02:13.243344Z",
          "iopub.execute_input": "2025-01-02T15:02:13.24377Z",
          "iopub.status.idle": "2025-01-02T15:02:13.252578Z",
          "shell.execute_reply.started": "2025-01-02T15:02:13.24373Z",
          "shell.execute_reply": "2025-01-02T15:02:13.250932Z"
        },
        "id": "mbpDFywGjhLJ",
        "outputId": "e2237526-75db-4793-a40b-4191017b7274"
      },
      "outputs": [
        {
          "execution_count": 26,
          "output_type": "execute_result",
          "data": {
            "text/plain": "[Their long occupation, initially in varying forms of isolation as hunter-gatherers, has made the region highly diverse, second only to Africa in human genetic diversity.[25] Settled life emerged on the subcontinent in the western margins of the Indus river basin 9,000 years ago, evolving gradually into the Indus Valley Civilisation of the third millennium BCE.[26] By 1200 BCE, an archaic form of Sanskrit, an Indo-European language, had diffused into India from the northwest, unfolding as the language of the Rigveda, and recording the dawning of Hinduism in India.[27],\n By 400 BCE, stratification and exclusion by caste had emerged within Hinduism,[29] and Buddhism and Jainism had arisen, proclaiming social orders unlinked to heredity.[30] Early political consolidations gave rise to the loose-knit Maurya and Gupta Empires based in the Ganges Basin.[31],\n Muslim armies from Central Asia intermittently overran India's northern plains,[37] eventually establishing the Delhi Sultanate, and drawing northern India into the cosmopolitan networks of medieval Islam.[38],\n It is the second-most populous country, the seventh-largest country by area, and the most populous democracy in the world.,\n Their collective era was suffused with wide-ranging creativity,[32] but also marked by the declining status of women,[33] and the incorporation of untouchability into an organised system of belief.[g][34]]"
          },
          "metadata": {}
        }
      ],
      "execution_count": null
    },
    {
      "cell_type": "code",
      "source": [
        "final_summary=[word.text for word in summary]"
      ],
      "metadata": {
        "trusted": true,
        "execution": {
          "iopub.status.busy": "2025-01-02T15:03:28.264333Z",
          "iopub.execute_input": "2025-01-02T15:03:28.264824Z",
          "iopub.status.idle": "2025-01-02T15:03:28.271165Z",
          "shell.execute_reply.started": "2025-01-02T15:03:28.264787Z",
          "shell.execute_reply": "2025-01-02T15:03:28.269534Z"
        },
        "id": "B85n7C-VjhLJ"
      },
      "outputs": [],
      "execution_count": null
    },
    {
      "cell_type": "code",
      "source": [
        "summary=' '.join(final_summary)"
      ],
      "metadata": {
        "trusted": true,
        "execution": {
          "iopub.status.busy": "2025-01-02T15:04:10.970092Z",
          "iopub.execute_input": "2025-01-02T15:04:10.970526Z",
          "iopub.status.idle": "2025-01-02T15:04:10.975958Z",
          "shell.execute_reply.started": "2025-01-02T15:04:10.97049Z",
          "shell.execute_reply": "2025-01-02T15:04:10.974619Z"
        },
        "id": "cqF4lzQPjhLK"
      },
      "outputs": [],
      "execution_count": null
    },
    {
      "cell_type": "code",
      "source": [
        "print(summary)"
      ],
      "metadata": {
        "trusted": true,
        "execution": {
          "iopub.status.busy": "2025-01-02T15:04:23.147663Z",
          "iopub.execute_input": "2025-01-02T15:04:23.148071Z",
          "iopub.status.idle": "2025-01-02T15:04:23.154481Z",
          "shell.execute_reply.started": "2025-01-02T15:04:23.148029Z",
          "shell.execute_reply": "2025-01-02T15:04:23.153193Z"
        },
        "id": "13QB83vojhLK",
        "outputId": "5dfb4939-44c2-4153-f103-f6a06a56219f"
      },
      "outputs": [
        {
          "name": "stdout",
          "text": "Their long occupation, initially in varying forms of isolation as hunter-gatherers, has made the region highly diverse, second only to Africa in human genetic diversity.[25] Settled life emerged on the subcontinent in the western margins of the Indus river basin 9,000 years ago, evolving gradually into the Indus Valley Civilisation of the third millennium BCE.[26] By 1200 BCE, an archaic form of Sanskrit, an Indo-European language, had diffused into India from the northwest, unfolding as the language of the Rigveda, and recording the dawning of Hinduism in India.[27] By 400 BCE, stratification and exclusion by caste had emerged within Hinduism,[29] and Buddhism and Jainism had arisen, proclaiming social orders unlinked to heredity.[30] Early political consolidations gave rise to the loose-knit Maurya and Gupta Empires based in the Ganges Basin.[31] Muslim armies from Central Asia intermittently overran India's northern plains,[37] eventually establishing the Delhi Sultanate, and drawing northern India into the cosmopolitan networks of medieval Islam.[38] It is the second-most populous country, the seventh-largest country by area, and the most populous democracy in the world. Their collective era was suffused with wide-ranging creativity,[32] but also marked by the declining status of women,[33] and the incorporation of untouchability into an organised system of belief.[g][34]\n",
          "output_type": "stream"
        }
      ],
      "execution_count": null
    },
    {
      "cell_type": "code",
      "source": [
        "len(text)"
      ],
      "metadata": {
        "trusted": true,
        "execution": {
          "iopub.status.busy": "2025-01-02T15:04:35.130783Z",
          "iopub.execute_input": "2025-01-02T15:04:35.131309Z",
          "iopub.status.idle": "2025-01-02T15:04:35.138278Z",
          "shell.execute_reply.started": "2025-01-02T15:04:35.131268Z",
          "shell.execute_reply": "2025-01-02T15:04:35.137184Z"
        },
        "id": "9pL6hptCjhLL",
        "outputId": "1ecd264f-7464-432c-ea92-79ce06fbe76b"
      },
      "outputs": [
        {
          "execution_count": 31,
          "output_type": "execute_result",
          "data": {
            "text/plain": "3158"
          },
          "metadata": {}
        }
      ],
      "execution_count": null
    },
    {
      "cell_type": "code",
      "source": [
        "len(summary)"
      ],
      "metadata": {
        "trusted": true,
        "execution": {
          "iopub.status.busy": "2025-01-02T15:04:41.578505Z",
          "iopub.execute_input": "2025-01-02T15:04:41.578906Z",
          "iopub.status.idle": "2025-01-02T15:04:41.585637Z",
          "shell.execute_reply.started": "2025-01-02T15:04:41.578872Z",
          "shell.execute_reply": "2025-01-02T15:04:41.584402Z"
        },
        "id": "4Ccz-XSHjhLL",
        "outputId": "3033b3ff-6e66-4edb-8239-b3614f96626e"
      },
      "outputs": [
        {
          "execution_count": 32,
          "output_type": "execute_result",
          "data": {
            "text/plain": "1398"
          },
          "metadata": {}
        }
      ],
      "execution_count": null
    },
    {
      "cell_type": "code",
      "source": [],
      "metadata": {
        "trusted": true,
        "id": "KxkOFiOLjhLM"
      },
      "outputs": [],
      "execution_count": null
    }
  ]
}