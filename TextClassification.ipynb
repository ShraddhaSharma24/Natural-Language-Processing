{
  "metadata": {
    "kernelspec": {
      "language": "python",
      "display_name": "Python 3",
      "name": "python3"
    },
    "language_info": {
      "name": "python",
      "version": "3.10.14",
      "mimetype": "text/x-python",
      "codemirror_mode": {
        "name": "ipython",
        "version": 3
      },
      "pygments_lexer": "ipython3",
      "nbconvert_exporter": "python",
      "file_extension": ".py"
    },
    "kaggle": {
      "accelerator": "none",
      "dataSources": [
        {
          "sourceId": 320111,
          "sourceType": "datasetVersion",
          "datasetId": 134715
        }
      ],
      "dockerImageVersionId": 30786,
      "isInternetEnabled": false,
      "language": "python",
      "sourceType": "notebook",
      "isGpuEnabled": false
    },
    "colab": {
      "name": "TextClassification",
      "provenance": [],
      "include_colab_link": true
    }
  },
  "nbformat_minor": 0,
  "nbformat": 4,
  "cells": [
    {
      "cell_type": "markdown",
      "metadata": {
        "id": "view-in-github",
        "colab_type": "text"
      },
      "source": [
        "<a href=\"https://colab.research.google.com/github/ShraddhaSharma24/Natural-Language-Processing/blob/main/TextClassification.ipynb\" target=\"_parent\"><img src=\"https://colab.research.google.com/assets/colab-badge.svg\" alt=\"Open In Colab\"/></a>"
      ]
    },
    {
      "source": [
        "# IMPORTANT: RUN THIS CELL IN ORDER TO IMPORT YOUR KAGGLE DATA SOURCES,\n",
        "# THEN FEEL FREE TO DELETE THIS CELL.\n",
        "# NOTE: THIS NOTEBOOK ENVIRONMENT DIFFERS FROM KAGGLE'S PYTHON\n",
        "# ENVIRONMENT SO THERE MAY BE MISSING LIBRARIES USED BY YOUR\n",
        "# NOTEBOOK.\n",
        "import kagglehub\n",
        "lakshmi25npathi_imdb_dataset_of_50k_movie_reviews_path = kagglehub.dataset_download('lakshmi25npathi/imdb-dataset-of-50k-movie-reviews')\n",
        "\n",
        "print('Data source import complete.')\n"
      ],
      "metadata": {
        "id": "UOVTaPy9JQQS"
      },
      "cell_type": "code",
      "outputs": [],
      "execution_count": null
    },
    {
      "cell_type": "code",
      "source": [
        "# This Python 3 environment comes with many helpful analytics libraries installed\n",
        "# It is defined by the kaggle/python Docker image: https://github.com/kaggle/docker-python\n",
        "# For example, here's several helpful packages to load\n",
        "\n",
        "import numpy as np # linear algebra\n",
        "import pandas as pd # data processing, CSV file I/O (e.g. pd.read_csv)\n",
        "\n",
        "# Input data files are available in the read-only \"../input/\" directory\n",
        "# For example, running this (by clicking run or pressing Shift+Enter) will list all files under the input directory\n",
        "\n",
        "import os\n",
        "for dirname, _, filenames in os.walk('/kaggle/input'):\n",
        "    for filename in filenames:\n",
        "        print(os.path.join(dirname, filename))\n",
        "\n",
        "# You can write up to 20GB to the current directory (/kaggle/working/) that gets preserved as output when you create a version using \"Save & Run All\"\n",
        "# You can also write temporary files to /kaggle/temp/, but they won't be saved outside of the current session"
      ],
      "metadata": {
        "_uuid": "8f2839f25d086af736a60e9eeb907d3b93b6e0e5",
        "_cell_guid": "b1076dfc-b9ad-4769-8c92-a6c4dae69d19",
        "trusted": true,
        "execution": {
          "iopub.status.busy": "2024-11-26T14:20:16.079326Z",
          "iopub.execute_input": "2024-11-26T14:20:16.080645Z",
          "iopub.status.idle": "2024-11-26T14:20:17.335376Z",
          "shell.execute_reply.started": "2024-11-26T14:20:16.080585Z",
          "shell.execute_reply": "2024-11-26T14:20:17.334027Z"
        },
        "id": "KSTTAqfHJQQb",
        "outputId": "7b9af62d-b89e-4a62-9d04-651703510fd7"
      },
      "outputs": [
        {
          "name": "stdout",
          "text": "/kaggle/input/imdb-dataset-of-50k-movie-reviews/IMDB Dataset.csv\n",
          "output_type": "stream"
        }
      ],
      "execution_count": null
    },
    {
      "cell_type": "code",
      "source": [
        "import numpy as np\n",
        "import pandas as pd"
      ],
      "metadata": {
        "trusted": true,
        "execution": {
          "iopub.status.busy": "2024-11-26T14:20:41.765666Z",
          "iopub.execute_input": "2024-11-26T14:20:41.766825Z",
          "iopub.status.idle": "2024-11-26T14:20:41.771598Z",
          "shell.execute_reply.started": "2024-11-26T14:20:41.766761Z",
          "shell.execute_reply": "2024-11-26T14:20:41.77045Z"
        },
        "id": "I51wpZWMJQQe"
      },
      "outputs": [],
      "execution_count": null
    },
    {
      "cell_type": "code",
      "source": [
        "data=pd.read_csv('/kaggle/input/imdb-dataset-of-50k-movie-reviews/IMDB Dataset.csv')"
      ],
      "metadata": {
        "trusted": true,
        "execution": {
          "iopub.status.busy": "2024-11-26T14:21:19.692831Z",
          "iopub.execute_input": "2024-11-26T14:21:19.693244Z",
          "iopub.status.idle": "2024-11-26T14:21:21.268231Z",
          "shell.execute_reply.started": "2024-11-26T14:21:19.693198Z",
          "shell.execute_reply": "2024-11-26T14:21:21.267131Z"
        },
        "id": "Owr7XMOcJQQi"
      },
      "outputs": [],
      "execution_count": null
    },
    {
      "cell_type": "code",
      "source": [
        "df=data.iloc[: 10000]"
      ],
      "metadata": {
        "trusted": true,
        "execution": {
          "iopub.status.busy": "2024-11-26T14:32:08.756429Z",
          "iopub.execute_input": "2024-11-26T14:32:08.756843Z",
          "iopub.status.idle": "2024-11-26T14:32:08.76274Z",
          "shell.execute_reply.started": "2024-11-26T14:32:08.756807Z",
          "shell.execute_reply": "2024-11-26T14:32:08.761568Z"
        },
        "id": "qkNbsMrUJQQj"
      },
      "outputs": [],
      "execution_count": null
    },
    {
      "cell_type": "code",
      "source": [
        "df.head()"
      ],
      "metadata": {
        "trusted": true,
        "execution": {
          "iopub.status.busy": "2024-11-26T14:32:11.197541Z",
          "iopub.execute_input": "2024-11-26T14:32:11.198214Z",
          "iopub.status.idle": "2024-11-26T14:32:11.20857Z",
          "shell.execute_reply.started": "2024-11-26T14:32:11.198176Z",
          "shell.execute_reply": "2024-11-26T14:32:11.207445Z"
        },
        "id": "De2Yak3wJQQk",
        "outputId": "d194534e-5e6a-4d03-b6fe-9e2faef51d4e"
      },
      "outputs": [
        {
          "execution_count": 17,
          "output_type": "execute_result",
          "data": {
            "text/plain": "                                              review sentiment\n0  One of the other reviewers has mentioned that ...  positive\n1  A wonderful little production. <br /><br />The...  positive\n2  I thought this was a wonderful way to spend ti...  positive\n3  Basically there's a family where a little boy ...  negative\n4  Petter Mattei's \"Love in the Time of Money\" is...  positive",
            "text/html": "<div>\n<style scoped>\n    .dataframe tbody tr th:only-of-type {\n        vertical-align: middle;\n    }\n\n    .dataframe tbody tr th {\n        vertical-align: top;\n    }\n\n    .dataframe thead th {\n        text-align: right;\n    }\n</style>\n<table border=\"1\" class=\"dataframe\">\n  <thead>\n    <tr style=\"text-align: right;\">\n      <th></th>\n      <th>review</th>\n      <th>sentiment</th>\n    </tr>\n  </thead>\n  <tbody>\n    <tr>\n      <th>0</th>\n      <td>One of the other reviewers has mentioned that ...</td>\n      <td>positive</td>\n    </tr>\n    <tr>\n      <th>1</th>\n      <td>A wonderful little production. &lt;br /&gt;&lt;br /&gt;The...</td>\n      <td>positive</td>\n    </tr>\n    <tr>\n      <th>2</th>\n      <td>I thought this was a wonderful way to spend ti...</td>\n      <td>positive</td>\n    </tr>\n    <tr>\n      <th>3</th>\n      <td>Basically there's a family where a little boy ...</td>\n      <td>negative</td>\n    </tr>\n    <tr>\n      <th>4</th>\n      <td>Petter Mattei's \"Love in the Time of Money\" is...</td>\n      <td>positive</td>\n    </tr>\n  </tbody>\n</table>\n</div>"
          },
          "metadata": {}
        }
      ],
      "execution_count": null
    },
    {
      "cell_type": "code",
      "source": [
        "df.drop_duplicates(inplace=True)"
      ],
      "metadata": {
        "trusted": true,
        "execution": {
          "iopub.status.busy": "2024-11-26T14:32:13.185854Z",
          "iopub.execute_input": "2024-11-26T14:32:13.186278Z",
          "iopub.status.idle": "2024-11-26T14:32:13.228691Z",
          "shell.execute_reply.started": "2024-11-26T14:32:13.186239Z",
          "shell.execute_reply": "2024-11-26T14:32:13.227436Z"
        },
        "id": "KuQEVvkpJQQm",
        "outputId": "74806548-ee34-4a94-9f9c-7907ff6b8b2a"
      },
      "outputs": [
        {
          "name": "stderr",
          "text": "/tmp/ipykernel_30/3006716147.py:1: SettingWithCopyWarning: \nA value is trying to be set on a copy of a slice from a DataFrame\n\nSee the caveats in the documentation: https://pandas.pydata.org/pandas-docs/stable/user_guide/indexing.html#returning-a-view-versus-a-copy\n  df.drop_duplicates(inplace=True)\n",
          "output_type": "stream"
        }
      ],
      "execution_count": null
    },
    {
      "cell_type": "code",
      "source": [
        "import re\n",
        "def remove_tags(raw_text):\n",
        "    cleaned_text=re.sub(re.compile('<,*?>'),'',raw_text)\n",
        "    return cleaned_text"
      ],
      "metadata": {
        "trusted": true,
        "execution": {
          "iopub.status.busy": "2024-11-26T14:32:14.525561Z",
          "iopub.execute_input": "2024-11-26T14:32:14.525955Z",
          "iopub.status.idle": "2024-11-26T14:32:14.531257Z",
          "shell.execute_reply.started": "2024-11-26T14:32:14.525919Z",
          "shell.execute_reply": "2024-11-26T14:32:14.529941Z"
        },
        "id": "QnQ3dnhdJQQo"
      },
      "outputs": [],
      "execution_count": null
    },
    {
      "cell_type": "code",
      "source": [
        "df['review']=df['review'].apply(remove_tags)"
      ],
      "metadata": {
        "trusted": true,
        "execution": {
          "iopub.status.busy": "2024-11-26T14:32:17.542686Z",
          "iopub.execute_input": "2024-11-26T14:32:17.543074Z",
          "iopub.status.idle": "2024-11-26T14:32:17.579413Z",
          "shell.execute_reply.started": "2024-11-26T14:32:17.543038Z",
          "shell.execute_reply": "2024-11-26T14:32:17.578309Z"
        },
        "id": "_MPb-0iLJQQq",
        "outputId": "e66fb5ef-2e9e-459c-e410-3e51426385c7"
      },
      "outputs": [
        {
          "name": "stderr",
          "text": "/tmp/ipykernel_30/2928534252.py:1: SettingWithCopyWarning: \nA value is trying to be set on a copy of a slice from a DataFrame.\nTry using .loc[row_indexer,col_indexer] = value instead\n\nSee the caveats in the documentation: https://pandas.pydata.org/pandas-docs/stable/user_guide/indexing.html#returning-a-view-versus-a-copy\n  df['review']=df['review'].apply(remove_tags)\n",
          "output_type": "stream"
        }
      ],
      "execution_count": null
    },
    {
      "cell_type": "code",
      "source": [
        "df['review']=df['review'].apply(lambda x:x.lower())"
      ],
      "metadata": {
        "trusted": true,
        "execution": {
          "iopub.status.busy": "2024-11-26T14:32:21.144327Z",
          "iopub.execute_input": "2024-11-26T14:32:21.144728Z",
          "iopub.status.idle": "2024-11-26T14:32:21.188608Z",
          "shell.execute_reply.started": "2024-11-26T14:32:21.144696Z",
          "shell.execute_reply": "2024-11-26T14:32:21.187554Z"
        },
        "id": "dYC9YUcLJQQs",
        "outputId": "6fdc6f3a-2a73-49ee-e297-1c9de8a149ea"
      },
      "outputs": [
        {
          "name": "stderr",
          "text": "/tmp/ipykernel_30/2697927567.py:1: SettingWithCopyWarning: \nA value is trying to be set on a copy of a slice from a DataFrame.\nTry using .loc[row_indexer,col_indexer] = value instead\n\nSee the caveats in the documentation: https://pandas.pydata.org/pandas-docs/stable/user_guide/indexing.html#returning-a-view-versus-a-copy\n  df['review']=df['review'].apply(lambda x:x.lower())\n",
          "output_type": "stream"
        }
      ],
      "execution_count": null
    },
    {
      "cell_type": "code",
      "source": [
        "from nltk.corpus import stopwords\n",
        "sw_list=stopwords.words('english')\n",
        "df['review']=df['review'].apply(lambda x:[item for item in x.split() if item not in sw_list]).apply(lambda x:\"\".join(x))"
      ],
      "metadata": {
        "trusted": true,
        "execution": {
          "iopub.status.busy": "2024-11-26T14:32:22.826517Z",
          "iopub.execute_input": "2024-11-26T14:32:22.826912Z",
          "iopub.status.idle": "2024-11-26T14:32:27.571029Z",
          "shell.execute_reply.started": "2024-11-26T14:32:22.826877Z",
          "shell.execute_reply": "2024-11-26T14:32:27.569959Z"
        },
        "id": "rtwkicLaJQQt",
        "outputId": "639aac0d-6517-45b0-b9eb-61a496856c03"
      },
      "outputs": [
        {
          "name": "stderr",
          "text": "/tmp/ipykernel_30/3253563264.py:3: SettingWithCopyWarning: \nA value is trying to be set on a copy of a slice from a DataFrame.\nTry using .loc[row_indexer,col_indexer] = value instead\n\nSee the caveats in the documentation: https://pandas.pydata.org/pandas-docs/stable/user_guide/indexing.html#returning-a-view-versus-a-copy\n  df['review']=df['review'].apply(lambda x:[item for item in x.split() if item not in sw_list]).apply(lambda x:\"\".join(x))\n",
          "output_type": "stream"
        }
      ],
      "execution_count": null
    },
    {
      "cell_type": "code",
      "source": [
        "df['review']"
      ],
      "metadata": {
        "trusted": true,
        "execution": {
          "iopub.status.busy": "2024-11-26T14:32:30.744466Z",
          "iopub.execute_input": "2024-11-26T14:32:30.744832Z",
          "iopub.status.idle": "2024-11-26T14:32:30.753564Z",
          "shell.execute_reply.started": "2024-11-26T14:32:30.7448Z",
          "shell.execute_reply": "2024-11-26T14:32:30.752314Z"
        },
        "id": "6ipe3kapJQQu",
        "outputId": "067aa6fe-d5d3-4a67-8af4-97c64f29afac"
      },
      "outputs": [
        {
          "execution_count": 23,
          "output_type": "execute_result",
          "data": {
            "text/plain": "0       onereviewersmentionedwatching1ozepisodehooked....\n1       wonderfullittleproduction.<br/><br/>thefilming...\n2       thoughtwonderfulwayspendtimehotsummerweekend,s...\n3       basicallythere'sfamilylittleboy(jake)thinksthe...\n4       pettermattei's\"lovetimemoney\"visuallystunningf...\n                              ...                        \n9995    fun,entertainingmoviewwiigermanspy(julieandrew...\n9996    givebreak.anyonesay\"goodhockeymovie\"?knowmovie...\n9997    moviebadmovie.watchingendlessseriesbadhorrormo...\n9998    movieprobablymadeentertainmiddleschool,earlyhi...\n9999    smashingfilmfilm-making.showsintensestrangerel...\nName: review, Length: 9983, dtype: object"
          },
          "metadata": {}
        }
      ],
      "execution_count": null
    },
    {
      "cell_type": "code",
      "source": [
        "import gensim"
      ],
      "metadata": {
        "trusted": true,
        "execution": {
          "iopub.status.busy": "2024-11-26T14:33:19.246059Z",
          "iopub.execute_input": "2024-11-26T14:33:19.246604Z",
          "iopub.status.idle": "2024-11-26T14:33:28.211236Z",
          "shell.execute_reply.started": "2024-11-26T14:33:19.246557Z",
          "shell.execute_reply": "2024-11-26T14:33:28.21033Z"
        },
        "id": "9ZbKWIAvJQQv"
      },
      "outputs": [],
      "execution_count": null
    },
    {
      "cell_type": "code",
      "source": [
        "from nltk import sent_tokenize\n",
        "from gensim.utils import simple_preprocess"
      ],
      "metadata": {
        "trusted": true,
        "execution": {
          "iopub.status.busy": "2024-11-26T14:33:58.525486Z",
          "iopub.execute_input": "2024-11-26T14:33:58.526076Z",
          "iopub.status.idle": "2024-11-26T14:33:58.53176Z",
          "shell.execute_reply.started": "2024-11-26T14:33:58.52604Z",
          "shell.execute_reply": "2024-11-26T14:33:58.530687Z"
        },
        "id": "Z_u-F--cJQQw"
      },
      "outputs": [],
      "execution_count": null
    },
    {
      "cell_type": "code",
      "source": [
        "story=[]\n",
        "for doc in df['review']:\n",
        "    raw_sent = sent_tokenize(doc)\n",
        "    for sent in raw_sent:\n",
        "        story.append(simple_preprocess(sent))\n",
        ""
      ],
      "metadata": {
        "trusted": true,
        "execution": {
          "iopub.status.busy": "2024-11-26T14:36:00.635996Z",
          "iopub.execute_input": "2024-11-26T14:36:00.636392Z",
          "iopub.status.idle": "2024-11-26T14:36:52.826416Z",
          "shell.execute_reply.started": "2024-11-26T14:36:00.636343Z",
          "shell.execute_reply": "2024-11-26T14:36:52.82493Z"
        },
        "id": "JNjACBWtJQQx"
      },
      "outputs": [],
      "execution_count": null
    },
    {
      "cell_type": "code",
      "source": [
        "model=gensim.models.Word2Vec(\n",
        "    window=10,\n",
        "    min_count=2\n",
        ")"
      ],
      "metadata": {
        "trusted": true,
        "execution": {
          "iopub.status.busy": "2024-11-26T15:07:17.196293Z",
          "iopub.execute_input": "2024-11-26T15:07:17.196731Z",
          "iopub.status.idle": "2024-11-26T15:07:17.204215Z",
          "shell.execute_reply.started": "2024-11-26T15:07:17.196694Z",
          "shell.execute_reply": "2024-11-26T15:07:17.202943Z"
        },
        "id": "hxulrql_JQQx"
      },
      "outputs": [],
      "execution_count": null
    },
    {
      "cell_type": "code",
      "source": [
        "model.build_vocab(story)"
      ],
      "metadata": {
        "trusted": true,
        "execution": {
          "iopub.status.busy": "2024-11-26T15:07:21.845726Z",
          "iopub.execute_input": "2024-11-26T15:07:21.846121Z",
          "iopub.status.idle": "2024-11-26T15:07:22.173541Z",
          "shell.execute_reply.started": "2024-11-26T15:07:21.846082Z",
          "shell.execute_reply": "2024-11-26T15:07:22.172434Z"
        },
        "id": "dOzSkgJQJQQy"
      },
      "outputs": [],
      "execution_count": null
    },
    {
      "cell_type": "code",
      "source": [
        "model.train(story,total_examples=model.corpus_count,epochs=model.epochs)"
      ],
      "metadata": {
        "trusted": true,
        "execution": {
          "iopub.status.busy": "2024-11-26T15:07:36.374751Z",
          "iopub.execute_input": "2024-11-26T15:07:36.37514Z",
          "iopub.status.idle": "2024-11-26T15:07:36.99009Z",
          "shell.execute_reply.started": "2024-11-26T15:07:36.375103Z",
          "shell.execute_reply": "2024-11-26T15:07:36.989086Z"
        },
        "id": "C7AZvSaBJQQz",
        "outputId": "a6923f32-384c-40ad-8d9d-6a744694ee37"
      },
      "outputs": [
        {
          "execution_count": 44,
          "output_type": "execute_result",
          "data": {
            "text/plain": "(441780, 1004425)"
          },
          "metadata": {}
        }
      ],
      "execution_count": null
    },
    {
      "cell_type": "code",
      "source": [
        "len(model.wv.index_to_key)"
      ],
      "metadata": {
        "trusted": true,
        "execution": {
          "iopub.status.busy": "2024-11-26T15:07:50.144481Z",
          "iopub.execute_input": "2024-11-26T15:07:50.144858Z",
          "iopub.status.idle": "2024-11-26T15:07:50.1514Z",
          "shell.execute_reply.started": "2024-11-26T15:07:50.144824Z",
          "shell.execute_reply": "2024-11-26T15:07:50.150399Z"
        },
        "id": "9gkK43geJQQ0",
        "outputId": "bc543cba-9c33-4f0d-d278-4078b4226496"
      },
      "outputs": [
        {
          "execution_count": 45,
          "output_type": "execute_result",
          "data": {
            "text/plain": "13309"
          },
          "metadata": {}
        }
      ],
      "execution_count": null
    },
    {
      "cell_type": "code",
      "source": [
        "def document_vector(doc):\n",
        "    doc=[word for word in doc.split() if word in model.wv.index_to_key]\n",
        "    return np.mean(model.wv[doc], axis=0)"
      ],
      "metadata": {
        "trusted": true,
        "execution": {
          "iopub.status.busy": "2024-11-26T15:09:34.855089Z",
          "iopub.execute_input": "2024-11-26T15:09:34.855483Z",
          "iopub.status.idle": "2024-11-26T15:09:34.861208Z",
          "shell.execute_reply.started": "2024-11-26T15:09:34.855446Z",
          "shell.execute_reply": "2024-11-26T15:09:34.860086Z"
        },
        "id": "8KlFonY6JQQ1"
      },
      "outputs": [],
      "execution_count": null
    },
    {
      "cell_type": "code",
      "source": [
        "def document_vector(doc):\n",
        "    # Filter words present in the model vocabulary\n",
        "    doc = [word for word in doc.split() if word in model.wv.index_to_key]\n",
        "\n",
        "    # Handle empty documents\n",
        "    if not doc:\n",
        "        return np.zeros(model.vector_size)  # Return a zero vector of appropriate size\n",
        "\n",
        "    # Get the vectors for each word and calculate the mean\n",
        "    vectors = [model.wv[word] for word in doc]\n",
        "    return np.mean(vectors, axis=0)"
      ],
      "metadata": {
        "trusted": true,
        "execution": {
          "iopub.status.busy": "2024-11-26T15:12:24.224675Z",
          "iopub.execute_input": "2024-11-26T15:12:24.225075Z",
          "iopub.status.idle": "2024-11-26T15:12:24.231376Z",
          "shell.execute_reply.started": "2024-11-26T15:12:24.225039Z",
          "shell.execute_reply": "2024-11-26T15:12:24.230031Z"
        },
        "id": "3_K9fLZVJQQ2"
      },
      "outputs": [],
      "execution_count": null
    },
    {
      "cell_type": "code",
      "source": [
        "document_vector(df['review'].values[0])"
      ],
      "metadata": {
        "trusted": true,
        "execution": {
          "iopub.status.busy": "2024-11-26T15:15:18.874758Z",
          "iopub.execute_input": "2024-11-26T15:15:18.875827Z",
          "iopub.status.idle": "2024-11-26T15:15:18.883609Z",
          "shell.execute_reply.started": "2024-11-26T15:15:18.875783Z",
          "shell.execute_reply": "2024-11-26T15:15:18.882354Z"
        },
        "id": "okM78k_qJQQ2",
        "outputId": "e49ffb4b-6ffe-4193-af2e-d00a1c1a8c20"
      },
      "outputs": [
        {
          "execution_count": 52,
          "output_type": "execute_result",
          "data": {
            "text/plain": "array([0., 0., 0., 0., 0., 0., 0., 0., 0., 0., 0., 0., 0., 0., 0., 0., 0.,\n       0., 0., 0., 0., 0., 0., 0., 0., 0., 0., 0., 0., 0., 0., 0., 0., 0.,\n       0., 0., 0., 0., 0., 0., 0., 0., 0., 0., 0., 0., 0., 0., 0., 0., 0.,\n       0., 0., 0., 0., 0., 0., 0., 0., 0., 0., 0., 0., 0., 0., 0., 0., 0.,\n       0., 0., 0., 0., 0., 0., 0., 0., 0., 0., 0., 0., 0., 0., 0., 0., 0.,\n       0., 0., 0., 0., 0., 0., 0., 0., 0., 0., 0., 0., 0., 0., 0.])"
          },
          "metadata": {}
        }
      ],
      "execution_count": null
    },
    {
      "cell_type": "code",
      "source": [
        "from tqdm import tqdm"
      ],
      "metadata": {
        "trusted": true,
        "execution": {
          "iopub.status.busy": "2024-11-26T15:15:21.514517Z",
          "iopub.execute_input": "2024-11-26T15:15:21.51582Z",
          "iopub.status.idle": "2024-11-26T15:15:21.520575Z",
          "shell.execute_reply.started": "2024-11-26T15:15:21.515771Z",
          "shell.execute_reply": "2024-11-26T15:15:21.519266Z"
        },
        "id": "BMEBxIzaJQQ4"
      },
      "outputs": [],
      "execution_count": null
    },
    {
      "cell_type": "code",
      "source": [
        "X=[]\n",
        "for doc in tqdm(df['review'].values):\n",
        "    X.append(document_vector(doc))"
      ],
      "metadata": {
        "trusted": true,
        "execution": {
          "iopub.status.busy": "2024-11-26T15:15:26.384104Z",
          "iopub.execute_input": "2024-11-26T15:15:26.384631Z",
          "iopub.status.idle": "2024-11-26T15:15:28.985497Z",
          "shell.execute_reply.started": "2024-11-26T15:15:26.38459Z",
          "shell.execute_reply": "2024-11-26T15:15:28.984238Z"
        },
        "id": "svk9_pLJJQQ4",
        "outputId": "ef89b0d7-2ea6-4475-8863-de7f18049711"
      },
      "outputs": [
        {
          "name": "stderr",
          "text": "100%|██████████| 9983/9983 [00:02<00:00, 3851.45it/s]\n",
          "output_type": "stream"
        }
      ],
      "execution_count": null
    },
    {
      "cell_type": "code",
      "source": [
        "X=np.array(X)"
      ],
      "metadata": {
        "trusted": true,
        "execution": {
          "iopub.status.busy": "2024-11-26T15:16:23.356208Z",
          "iopub.execute_input": "2024-11-26T15:16:23.356627Z",
          "iopub.status.idle": "2024-11-26T15:16:23.376117Z",
          "shell.execute_reply.started": "2024-11-26T15:16:23.35659Z",
          "shell.execute_reply": "2024-11-26T15:16:23.375089Z"
        },
        "id": "gP5V7OZLJQQ5"
      },
      "outputs": [],
      "execution_count": null
    },
    {
      "cell_type": "code",
      "source": [
        "X.shape"
      ],
      "metadata": {
        "trusted": true,
        "execution": {
          "iopub.status.busy": "2024-11-26T15:16:46.014768Z",
          "iopub.execute_input": "2024-11-26T15:16:46.015163Z",
          "iopub.status.idle": "2024-11-26T15:16:46.022244Z",
          "shell.execute_reply.started": "2024-11-26T15:16:46.015127Z",
          "shell.execute_reply": "2024-11-26T15:16:46.021056Z"
        },
        "id": "OfCo97U6JQQ5",
        "outputId": "958b23a5-92ae-42a9-e1f3-aacce3505b4e"
      },
      "outputs": [
        {
          "execution_count": 56,
          "output_type": "execute_result",
          "data": {
            "text/plain": "(9983, 100)"
          },
          "metadata": {}
        }
      ],
      "execution_count": null
    },
    {
      "cell_type": "code",
      "source": [
        "from sklearn.preprocessing import LabelEncoder\n",
        "encoder=LabelEncoder()\n",
        "\n",
        "y=encoder.fit_transform(df['sentiment'])"
      ],
      "metadata": {
        "trusted": true,
        "execution": {
          "iopub.status.busy": "2024-11-26T15:18:00.312922Z",
          "iopub.execute_input": "2024-11-26T15:18:00.313411Z",
          "iopub.status.idle": "2024-11-26T15:18:00.321328Z",
          "shell.execute_reply.started": "2024-11-26T15:18:00.313333Z",
          "shell.execute_reply": "2024-11-26T15:18:00.320156Z"
        },
        "id": "W-kZ8DCHJQQ6"
      },
      "outputs": [],
      "execution_count": null
    },
    {
      "cell_type": "code",
      "source": [
        "y"
      ],
      "metadata": {
        "trusted": true,
        "execution": {
          "iopub.status.busy": "2024-11-26T15:18:02.810965Z",
          "iopub.execute_input": "2024-11-26T15:18:02.811383Z",
          "iopub.status.idle": "2024-11-26T15:18:02.819643Z",
          "shell.execute_reply.started": "2024-11-26T15:18:02.81132Z",
          "shell.execute_reply": "2024-11-26T15:18:02.818308Z"
        },
        "id": "5thmEdhuJQQ6",
        "outputId": "d2be39ba-2a22-40b3-e33b-e8f9aed14cb7"
      },
      "outputs": [
        {
          "execution_count": 58,
          "output_type": "execute_result",
          "data": {
            "text/plain": "array([1, 1, 1, ..., 0, 0, 1])"
          },
          "metadata": {}
        }
      ],
      "execution_count": null
    },
    {
      "cell_type": "code",
      "source": [
        "from sklearn.model_selection import train_test_split\n",
        "X_train,X_test,y_train,y_test=train_test_split(X,y,test_size=0.3,random_state=1)"
      ],
      "metadata": {
        "trusted": true,
        "execution": {
          "iopub.status.busy": "2024-11-26T15:20:24.53558Z",
          "iopub.execute_input": "2024-11-26T15:20:24.53597Z",
          "iopub.status.idle": "2024-11-26T15:20:24.547438Z",
          "shell.execute_reply.started": "2024-11-26T15:20:24.535935Z",
          "shell.execute_reply": "2024-11-26T15:20:24.54634Z"
        },
        "id": "ojLKzrFjJQQ7"
      },
      "outputs": [],
      "execution_count": null
    },
    {
      "cell_type": "code",
      "source": [
        "from sklearn.naive_bayes import GaussianNB\n",
        "from sklearn.metrics import accuracy_score"
      ],
      "metadata": {
        "trusted": true,
        "execution": {
          "iopub.status.busy": "2024-11-26T15:22:23.274573Z",
          "iopub.execute_input": "2024-11-26T15:22:23.275664Z",
          "iopub.status.idle": "2024-11-26T15:22:23.280494Z",
          "shell.execute_reply.started": "2024-11-26T15:22:23.275613Z",
          "shell.execute_reply": "2024-11-26T15:22:23.279161Z"
        },
        "id": "T3Kv25UPJQQ7"
      },
      "outputs": [],
      "execution_count": null
    },
    {
      "cell_type": "code",
      "source": [
        "mnb=GaussianNB()\n",
        "mnb.fit(X_train,y_train)\n",
        "y_pred=mnb.predict(X_test)\n",
        "accuracy_score(y_test,y_pred)"
      ],
      "metadata": {
        "trusted": true,
        "execution": {
          "iopub.status.busy": "2024-11-26T15:24:10.954707Z",
          "iopub.execute_input": "2024-11-26T15:24:10.955097Z",
          "iopub.status.idle": "2024-11-26T15:24:10.989704Z",
          "shell.execute_reply.started": "2024-11-26T15:24:10.955059Z",
          "shell.execute_reply": "2024-11-26T15:24:10.988543Z"
        },
        "id": "xocqqFZGJQQ7",
        "outputId": "d9644773-54e7-4f51-99dc-a969b41ff93f"
      },
      "outputs": [
        {
          "name": "stderr",
          "text": "/opt/conda/lib/python3.10/site-packages/sklearn/naive_bayes.py:515: RuntimeWarning: divide by zero encountered in log\n  n_ij = -0.5 * np.sum(np.log(2.0 * np.pi * self.var_[i, :]))\n/opt/conda/lib/python3.10/site-packages/sklearn/naive_bayes.py:516: RuntimeWarning: invalid value encountered in divide\n  n_ij -= 0.5 * np.sum(((X - self.theta_[i, :]) ** 2) / (self.var_[i, :]), 1)\n",
          "output_type": "stream"
        },
        {
          "execution_count": 65,
          "output_type": "execute_result",
          "data": {
            "text/plain": "0.48247078464106846"
          },
          "metadata": {}
        }
      ],
      "execution_count": null
    },
    {
      "cell_type": "code",
      "source": [
        "from sklearn.ensemble import RandomForestClassifier"
      ],
      "metadata": {
        "trusted": true,
        "execution": {
          "iopub.status.busy": "2024-11-26T15:26:54.845222Z",
          "iopub.execute_input": "2024-11-26T15:26:54.845628Z",
          "iopub.status.idle": "2024-11-26T15:26:54.850674Z",
          "shell.execute_reply.started": "2024-11-26T15:26:54.845593Z",
          "shell.execute_reply": "2024-11-26T15:26:54.849454Z"
        },
        "id": "e0ApHkhnJQQ8"
      },
      "outputs": [],
      "execution_count": null
    },
    {
      "cell_type": "code",
      "source": [
        "rf=RandomForestClassifier()\n",
        "rf.fit(X_train,y_train)\n",
        "y_pred=rf.predict(X_test)\n",
        "accuracy_score(y_test,y_pred)"
      ],
      "metadata": {
        "trusted": true,
        "execution": {
          "iopub.status.busy": "2024-11-26T15:27:03.986462Z",
          "iopub.execute_input": "2024-11-26T15:27:03.987093Z",
          "iopub.status.idle": "2024-11-26T15:27:04.381778Z",
          "shell.execute_reply.started": "2024-11-26T15:27:03.987038Z",
          "shell.execute_reply": "2024-11-26T15:27:04.380444Z"
        },
        "id": "gJhm86O3JQQ8",
        "outputId": "36c61dd2-99bd-43c9-e06e-9aafe0186001"
      },
      "outputs": [
        {
          "execution_count": 74,
          "output_type": "execute_result",
          "data": {
            "text/plain": "0.48247078464106846"
          },
          "metadata": {}
        }
      ],
      "execution_count": null
    },
    {
      "cell_type": "code",
      "source": [],
      "metadata": {
        "trusted": true,
        "id": "ckIoMKmCJQQ9"
      },
      "outputs": [],
      "execution_count": null
    }
  ]
}