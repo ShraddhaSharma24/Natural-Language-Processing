{
  "metadata": {
    "kernelspec": {
      "language": "python",
      "display_name": "Python 3",
      "name": "python3"
    },
    "language_info": {
      "name": "python",
      "version": "3.10.14",
      "mimetype": "text/x-python",
      "codemirror_mode": {
        "name": "ipython",
        "version": 3
      },
      "pygments_lexer": "ipython3",
      "nbconvert_exporter": "python",
      "file_extension": ".py"
    },
    "kaggle": {
      "accelerator": "none",
      "dataSources": [],
      "dockerImageVersionId": 30786,
      "isInternetEnabled": false,
      "language": "python",
      "sourceType": "notebook",
      "isGpuEnabled": false
    },
    "colab": {
      "name": "Word2vec",
      "provenance": [],
      "include_colab_link": true
    }
  },
  "nbformat_minor": 0,
  "nbformat": 4,
  "cells": [
    {
      "cell_type": "markdown",
      "metadata": {
        "id": "view-in-github",
        "colab_type": "text"
      },
      "source": [
        "<a href=\"https://colab.research.google.com/github/ShraddhaSharma24/Natural-Language-Processing/blob/main/Word2vec.ipynb\" target=\"_parent\"><img src=\"https://colab.research.google.com/assets/colab-badge.svg\" alt=\"Open In Colab\"/></a>"
      ]
    },
    {
      "cell_type": "code",
      "source": [
        "# This Python 3 environment comes with many helpful analytics libraries installed\n",
        "# It is defined by the kaggle/python Docker image: https://github.com/kaggle/docker-python\n",
        "# For example, here's several helpful packages to load\n",
        "\n",
        "import numpy as np # linear algebra\n",
        "import pandas as pd # data processing, CSV file I/O (e.g. pd.read_csv)\n",
        "\n",
        "# Input data files are available in the read-only \"../input/\" directory\n",
        "# For example, running this (by clicking run or pressing Shift+Enter) will list all files under the input directory\n",
        "\n",
        "import os\n",
        "for dirname, _, filenames in os.walk('/kaggle/input'):\n",
        "    for filename in filenames:\n",
        "        print(os.path.join(dirname, filename))\n",
        "\n",
        "# You can write up to 20GB to the current directory (/kaggle/working/) that gets preserved as output when you create a version using \"Save & Run All\"\n",
        "# You can also write temporary files to /kaggle/temp/, but they won't be saved outside of the current session"
      ],
      "metadata": {
        "_uuid": "8f2839f25d086af736a60e9eeb907d3b93b6e0e5",
        "_cell_guid": "b1076dfc-b9ad-4769-8c92-a6c4dae69d19",
        "trusted": true,
        "id": "wrRfVBFzI-qf"
      },
      "outputs": [],
      "execution_count": null
    },
    {
      "cell_type": "code",
      "source": [
        "import gensim\n",
        "import nltk"
      ],
      "metadata": {
        "trusted": true,
        "execution": {
          "iopub.status.busy": "2024-11-26T10:12:32.216807Z",
          "iopub.execute_input": "2024-11-26T10:12:32.217129Z",
          "iopub.status.idle": "2024-11-26T10:12:42.268549Z",
          "shell.execute_reply.started": "2024-11-26T10:12:32.217083Z",
          "shell.execute_reply": "2024-11-26T10:12:42.267208Z"
        },
        "id": "rSbfLAfRI-qn"
      },
      "outputs": [],
      "execution_count": null
    },
    {
      "cell_type": "code",
      "source": [
        "from gensim.models import Word2Vec\n",
        "from nltk.tokenize import word_tokenize\n",
        "from nltk.corpus import stopwords"
      ],
      "metadata": {
        "trusted": true,
        "execution": {
          "iopub.status.busy": "2024-11-26T10:12:54.47754Z",
          "iopub.execute_input": "2024-11-26T10:12:54.478353Z",
          "iopub.status.idle": "2024-11-26T10:12:54.483501Z",
          "shell.execute_reply.started": "2024-11-26T10:12:54.478298Z",
          "shell.execute_reply": "2024-11-26T10:12:54.482228Z"
        },
        "id": "LfNMl946I-qo"
      },
      "outputs": [],
      "execution_count": null
    },
    {
      "cell_type": "code",
      "source": [
        "# Sample corpus\n",
        "text_corpus = [\n",
        "    \"Natural Language Processing is a fascinating field.\",\n",
        "    \"Word embeddings like Word2Vec capture semantic meaning of words.\",\n",
        "    \"Machine Learning algorithms improve with better data.\"\n",
        "]"
      ],
      "metadata": {
        "trusted": true,
        "execution": {
          "iopub.status.busy": "2024-11-26T10:13:13.248312Z",
          "iopub.execute_input": "2024-11-26T10:13:13.248713Z",
          "iopub.status.idle": "2024-11-26T10:13:13.254456Z",
          "shell.execute_reply.started": "2024-11-26T10:13:13.24868Z",
          "shell.execute_reply": "2024-11-26T10:13:13.25314Z"
        },
        "id": "_e9IZnlHI-qp"
      },
      "outputs": [],
      "execution_count": null
    },
    {
      "cell_type": "code",
      "source": [
        "# Preprocess the text: tokenize and remove stopwords\n",
        "def preprocess_text(corpus):\n",
        "    stop_words = set(stopwords.words('english'))\n",
        "    tokenized_corpus = []\n",
        "    for sentence in corpus:\n",
        "        words = word_tokenize(sentence.lower())  # Tokenize and convert to lowercase\n",
        "        filtered_words = [word for word in words if word.isalnum() and word not in stop_words]  # Remove stopwords and punctuation\n",
        "        tokenized_corpus.append(filtered_words)\n",
        "    return tokenized_corpus\n",
        "\n",
        "tokenized_corpus = preprocess_text(text_corpus)"
      ],
      "metadata": {
        "trusted": true,
        "execution": {
          "iopub.status.busy": "2024-11-26T10:15:18.627426Z",
          "iopub.execute_input": "2024-11-26T10:15:18.62792Z",
          "iopub.status.idle": "2024-11-26T10:15:18.659895Z",
          "shell.execute_reply.started": "2024-11-26T10:15:18.627884Z",
          "shell.execute_reply": "2024-11-26T10:15:18.658301Z"
        },
        "id": "L12BKV2rI-qq"
      },
      "outputs": [],
      "execution_count": null
    },
    {
      "cell_type": "code",
      "source": [
        "# Train Word2Vec model\n",
        "word2vec_model = Word2Vec(sentences=tokenized_corpus, vector_size=100, window=5, min_count=1, workers=4)"
      ],
      "metadata": {
        "trusted": true,
        "execution": {
          "iopub.status.busy": "2024-11-26T10:15:56.817385Z",
          "iopub.execute_input": "2024-11-26T10:15:56.817804Z",
          "iopub.status.idle": "2024-11-26T10:15:56.841499Z",
          "shell.execute_reply.started": "2024-11-26T10:15:56.817769Z",
          "shell.execute_reply": "2024-11-26T10:15:56.839849Z"
        },
        "id": "WGdoEHcQI-qr"
      },
      "outputs": [],
      "execution_count": null
    },
    {
      "cell_type": "code",
      "source": [
        "# Accessing word embeddings\n",
        "print(\"Word embedding for 'processing':\")\n",
        "print(word2vec_model.wv['processing'])\n"
      ],
      "metadata": {
        "trusted": true,
        "execution": {
          "iopub.status.busy": "2024-11-26T10:16:56.913993Z",
          "iopub.execute_input": "2024-11-26T10:16:56.914458Z",
          "iopub.status.idle": "2024-11-26T10:16:56.921578Z",
          "shell.execute_reply.started": "2024-11-26T10:16:56.914411Z",
          "shell.execute_reply": "2024-11-26T10:16:56.919947Z"
        },
        "id": "NGEhcoafI-qs",
        "outputId": "e5125454-7112-453a-8ea8-a2fab64a4600"
      },
      "outputs": [
        {
          "name": "stdout",
          "text": "Word embedding for 'processing':\n[-8.2426779e-03  9.2993546e-03 -1.9766092e-04 -1.9672764e-03\n  4.6036304e-03 -4.0953159e-03  2.7431143e-03  6.9399667e-03\n  6.0654259e-03 -7.5107943e-03  9.3823504e-03  4.6718083e-03\n  3.9661205e-03 -6.2435055e-03  8.4599797e-03 -2.1501649e-03\n  8.8251876e-03 -5.3620026e-03 -8.1294188e-03  6.8245591e-03\n  1.6711927e-03 -2.1985089e-03  9.5136007e-03  9.4938548e-03\n -9.7740470e-03  2.5052286e-03  6.1566923e-03  3.8724565e-03\n  2.0227872e-03  4.3050171e-04  6.7363144e-04 -3.8206363e-03\n -7.1402504e-03 -2.0888723e-03  3.9238976e-03  8.8186832e-03\n  9.2591504e-03 -5.9759365e-03 -9.4026709e-03  9.7643770e-03\n  3.4297847e-03  5.1661171e-03  6.2823449e-03 -2.8042626e-03\n  7.3227035e-03  2.8302716e-03  2.8710044e-03 -2.3803699e-03\n -3.1282497e-03 -2.3701417e-03  4.2764368e-03  7.6057913e-05\n -9.5842788e-03 -9.6655441e-03 -6.1481940e-03 -1.2856961e-04\n  1.9974159e-03  9.4319675e-03  5.5843508e-03 -4.2906962e-03\n  2.7831673e-04  4.9643586e-03  7.6983096e-03 -1.1442233e-03\n  4.3234206e-03 -5.8143795e-03 -8.0419064e-04  8.1000505e-03\n -2.3600650e-03 -9.6634552e-03  5.7792603e-03 -3.9298222e-03\n -1.2228728e-03  9.9805174e-03 -2.2563506e-03 -4.7570644e-03\n -5.3293873e-03  6.9808899e-03 -5.7088719e-03  2.1136629e-03\n -5.2556600e-03  6.1207139e-03  4.3573068e-03  2.6063549e-03\n -1.4910829e-03 -2.7460635e-03  8.9929365e-03  5.2157748e-03\n -2.1625196e-03 -9.4703101e-03 -7.4260519e-03 -1.0637414e-03\n -7.9494715e-04 -2.5629092e-03  9.6827205e-03 -4.5852066e-04\n  5.8737611e-03 -7.4475873e-03 -2.5060738e-03 -5.5498634e-03]\n",
          "output_type": "stream"
        }
      ],
      "execution_count": null
    },
    {
      "cell_type": "code",
      "source": [
        "# Finding similar words\n",
        "print(\"\\nMost similar words to 'word':\")\n",
        "print(word2vec_model.wv.most_similar('word'))\n"
      ],
      "metadata": {
        "trusted": true,
        "execution": {
          "iopub.status.busy": "2024-11-26T10:17:15.252725Z",
          "iopub.execute_input": "2024-11-26T10:17:15.253143Z",
          "iopub.status.idle": "2024-11-26T10:17:15.26338Z",
          "shell.execute_reply.started": "2024-11-26T10:17:15.253109Z",
          "shell.execute_reply": "2024-11-26T10:17:15.262148Z"
        },
        "id": "AklxFAq3I-qw",
        "outputId": "5fd96f9c-9723-40ca-bcb9-67eb383f9fd1"
      },
      "outputs": [
        {
          "name": "stdout",
          "text": "\nMost similar words to 'word':\n[('algorithms', 0.16378770768642426), ('language', 0.1459505707025528), ('natural', 0.07480262219905853), ('better', 0.050480034202337265), ('processing', 0.041577354073524475), ('fascinating', 0.03476494178175926), ('field', 0.01915225386619568), ('data', 0.01613469421863556), ('words', 0.012811623513698578), ('like', 0.008817990310490131)]\n",
          "output_type": "stream"
        }
      ],
      "execution_count": null
    },
    {
      "cell_type": "code",
      "source": [
        "print(word2vec_model.wv.doesnt_match(['word','language','field']))"
      ],
      "metadata": {
        "trusted": true,
        "execution": {
          "iopub.status.busy": "2024-11-26T10:22:28.344463Z",
          "iopub.execute_input": "2024-11-26T10:22:28.344912Z",
          "iopub.status.idle": "2024-11-26T10:22:28.352087Z",
          "shell.execute_reply.started": "2024-11-26T10:22:28.344877Z",
          "shell.execute_reply": "2024-11-26T10:22:28.350765Z"
        },
        "id": "ZlFrsQq3I-qy",
        "outputId": "40b78b43-9145-4f61-a970-eb817ab2c6cf"
      },
      "outputs": [
        {
          "name": "stdout",
          "text": "field\n",
          "output_type": "stream"
        }
      ],
      "execution_count": null
    },
    {
      "cell_type": "code",
      "source": [
        "print(word2vec_model.wv.similarity('algorithm'))"
      ],
      "metadata": {
        "trusted": true,
        "execution": {
          "iopub.status.busy": "2024-11-26T10:23:07.922485Z",
          "iopub.execute_input": "2024-11-26T10:23:07.922922Z",
          "iopub.status.idle": "2024-11-26T10:23:07.954512Z",
          "shell.execute_reply.started": "2024-11-26T10:23:07.922886Z",
          "shell.execute_reply": "2024-11-26T10:23:07.952987Z"
        },
        "id": "j2W_FQfYI-q0",
        "outputId": "31f2aec0-3e5b-4844-dbe9-f7ef8735f016"
      },
      "outputs": [
        {
          "traceback": [
            "\u001b[0;31m---------------------------------------------------------------------------\u001b[0m",
            "\u001b[0;31mTypeError\u001b[0m                                 Traceback (most recent call last)",
            "Cell \u001b[0;32mIn[12], line 1\u001b[0m\n\u001b[0;32m----> 1\u001b[0m \u001b[38;5;28mprint\u001b[39m(\u001b[43mword2vec_model\u001b[49m\u001b[38;5;241;43m.\u001b[39;49m\u001b[43mwv\u001b[49m\u001b[38;5;241;43m.\u001b[39;49m\u001b[43msimilarity\u001b[49m\u001b[43m(\u001b[49m\u001b[38;5;124;43m'\u001b[39;49m\u001b[38;5;124;43malgorithm\u001b[39;49m\u001b[38;5;124;43m'\u001b[39;49m\u001b[43m)\u001b[49m)\n",
            "\u001b[0;31mTypeError\u001b[0m: KeyedVectors.similarity() missing 1 required positional argument: 'w2'"
          ],
          "ename": "TypeError",
          "evalue": "KeyedVectors.similarity() missing 1 required positional argument: 'w2'",
          "output_type": "error"
        }
      ],
      "execution_count": null
    },
    {
      "cell_type": "code",
      "source": [
        "word2vec_model.wv.get_normed_vectors()"
      ],
      "metadata": {
        "trusted": true,
        "execution": {
          "iopub.status.busy": "2024-11-26T10:24:34.106422Z",
          "iopub.execute_input": "2024-11-26T10:24:34.106928Z",
          "iopub.status.idle": "2024-11-26T10:24:34.118614Z",
          "shell.execute_reply.started": "2024-11-26T10:24:34.106879Z",
          "shell.execute_reply": "2024-11-26T10:24:34.117554Z"
        },
        "id": "Q6FhJB_uI-q0",
        "outputId": "35b3f729-033c-411d-baad-47cc1bc4becc"
      },
      "outputs": [
        {
          "execution_count": 15,
          "output_type": "execute_result",
          "data": {
            "text/plain": "array([[-0.00948375,  0.00418154,  0.09025815, ..., -0.12453747,\n         0.0159432 ,  0.11305874],\n       [-0.14864717,  0.06321593,  0.08949994, ..., -0.04124186,\n        -0.16400231,  0.07770423],\n       [ 0.00166332,  0.05412817, -0.11983024, ...,  0.00901615,\n         0.1444631 , -0.12346061],\n       ...,\n       [ 0.02121599, -0.15998559,  0.07486263, ..., -0.04222368,\n        -0.12658063,  0.06841443],\n       [ 0.02982165,  0.11672176,  0.04878029, ..., -0.03080437,\n         0.05983024, -0.11656167],\n       [ 0.16395864, -0.16471368, -0.10945941, ..., -0.04549181,\n         0.06441382,  0.00568599]], dtype=float32)"
          },
          "metadata": {}
        }
      ],
      "execution_count": null
    },
    {
      "cell_type": "code",
      "source": [
        "# Save and load the model\n",
        "word2vec_model.save(\"word2vec.model\")\n",
        "loaded_model = Word2Vec.load(\"word2vec.model\")"
      ],
      "metadata": {
        "trusted": true,
        "execution": {
          "iopub.status.busy": "2024-11-26T10:17:49.176913Z",
          "iopub.execute_input": "2024-11-26T10:17:49.177312Z",
          "iopub.status.idle": "2024-11-26T10:17:49.186725Z",
          "shell.execute_reply.started": "2024-11-26T10:17:49.177277Z",
          "shell.execute_reply": "2024-11-26T10:17:49.185602Z"
        },
        "id": "cSfidi0eI-q1"
      },
      "outputs": [],
      "execution_count": null
    },
    {
      "cell_type": "code",
      "source": [
        "y=print(word2vec_model.wv.index_to_key)"
      ],
      "metadata": {
        "trusted": true,
        "execution": {
          "iopub.status.busy": "2024-11-26T10:25:34.826877Z",
          "iopub.execute_input": "2024-11-26T10:25:34.827255Z",
          "iopub.status.idle": "2024-11-26T10:25:34.833059Z",
          "shell.execute_reply.started": "2024-11-26T10:25:34.82722Z",
          "shell.execute_reply": "2024-11-26T10:25:34.831764Z"
        },
        "id": "aPps_LG5I-q2",
        "outputId": "20078ce6-cf51-4530-fd46-f3efaee0158f"
      },
      "outputs": [
        {
          "name": "stdout",
          "text": "['data', 'word2vec', 'language', 'processing', 'fascinating', 'field', 'word', 'embeddings', 'like', 'capture', 'better', 'semantic', 'meaning', 'words', 'machine', 'learning', 'algorithms', 'improve', 'natural']\n",
          "output_type": "stream"
        }
      ],
      "execution_count": null
    },
    {
      "cell_type": "code",
      "source": [],
      "metadata": {
        "trusted": true,
        "id": "DnSap39DI-q2"
      },
      "outputs": [],
      "execution_count": null
    }
  ]
}